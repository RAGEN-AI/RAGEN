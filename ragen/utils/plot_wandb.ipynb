{
 "cells": [
  {
   "cell_type": "code",
   "execution_count": 66,
   "metadata": {},
   "outputs": [
    {
     "name": "stdout",
     "output_type": "stream",
     "text": [
      "The autoreload extension is already loaded. To reload it, use:\n",
      "  %reload_ext autoreload\n"
     ]
    }
   ],
   "source": [
    "%load_ext autoreload\n",
    "%autoreload 2"
   ]
  },
  {
   "cell_type": "code",
   "execution_count": 73,
   "metadata": {},
   "outputs": [],
   "source": [
    "from wandb_utils import download_wandb_metrics,download_wandb_logs\n",
    "import pandas as pd\n",
    "import os\n",
    "from plot_utils import plot_line_chart,extract_metrics\n",
    "import numpy as np"
   ]
  },
  {
   "cell_type": "markdown",
   "metadata": {},
   "source": [
    "## Bandit Results\n",
    "This figure is the low arm and high arm rate for the normal and reverse of the no think and main bandit"
   ]
  },
  {
   "cell_type": "code",
   "execution_count": 47,
   "metadata": {},
   "outputs": [],
   "source": [
    "\n",
    "\n",
    "\n",
    "figure4_bandit_results = {\n",
    "    \"bandit_no_think_rl_archive\": \"1gyb6m0f\",\n",
    "    \"bandit_reverse_no_think_rl_archive\":\"qrgyldl3\",\n",
    "    \"bandit_main_archive\":\"d4rw9kmn\",\n",
    "    \"bandit_reverse_archive\":\"jbe3s5bb\",\n",
    "}\n",
    "\n",
    "\n",
    "for k,v in figure4_bandit_results.items():\n",
    "    download_wandb_metrics(run_id=v,out_dir='./wandb_logs')\n",
    "\n"
   ]
  },
  {
   "cell_type": "code",
   "execution_count": 48,
   "metadata": {},
   "outputs": [],
   "source": [
    "file_name_to_plot_name={\n",
    "    \"bandit_no_think_rl_archive\":\"no-think-RL\",\n",
    "    \"bandit_reverse_no_think_rl_archive\":\"no-think-RL-reverse\",\n",
    "    \"bandit_main_archive\":\"RAGEN\",\n",
    "    \"bandit_reverse_archive\":\"RAGEN-reverse\",\n",
    "    \n",
    "}\n",
    "file_plot_dict={}\n",
    "for k in figure4_bandit_results.keys():\n",
    "    file_plot_dict[f\"./wandb_logs/{k}/metrics.csv\"] = file_name_to_plot_name[k]"
   ]
  },
  {
   "cell_type": "code",
   "execution_count": 57,
   "metadata": {},
   "outputs": [],
   "source": [
    "\n",
    "metric_names_mapping={\n",
    "    \"metric/n_high_arm\":\"Row High Arm Rate (%)\",\n",
    "    \"metric/n_low_arm\":\"Row Low Arm Rate (%)\",\n",
    "    \"_step\":\"Steps\",\n",
    "}"
   ]
  },
  {
   "cell_type": "code",
   "execution_count": 58,
   "metadata": {},
   "outputs": [],
   "source": [
    "processed_data = extract_metrics(file_plot_dict,metric_names_mapping)"
   ]
  },
  {
   "cell_type": "code",
   "execution_count": 59,
   "metadata": {},
   "outputs": [
    {
     "name": "stderr",
     "output_type": "stream",
     "text": [
      "/tmp/ipykernel_1248633/3792891665.py:3: RuntimeWarning: invalid value encountered in divide\n",
      "  v[\"High Arm Rate (%)\"] = v[\"Row High Arm Rate (%)\"]/(v[\"Row High Arm Rate (%)\"]+v[\"Row Low Arm Rate (%)\"])*100\n",
      "/tmp/ipykernel_1248633/3792891665.py:4: RuntimeWarning: invalid value encountered in divide\n",
      "  v[\"Low Arm Rate (%)\"] = v[\"Row Low Arm Rate (%)\"]/(v[\"Row High Arm Rate (%)\"]+v[\"Row Low Arm Rate (%)\"])*100\n"
     ]
    }
   ],
   "source": [
    "for k,v in processed_data.items():\n",
    "    # recalculate the rate as high/(high+low) and low/(high+low)\n",
    "    v[\"High Arm Rate (%)\"] = v[\"Row High Arm Rate (%)\"]/(v[\"Row High Arm Rate (%)\"]+v[\"Row Low Arm Rate (%)\"])*100\n",
    "    v[\"Low Arm Rate (%)\"] = v[\"Row Low Arm Rate (%)\"]/(v[\"Row High Arm Rate (%)\"]+v[\"Row Low Arm Rate (%)\"])*100"
   ]
  },
  {
   "cell_type": "code",
   "execution_count": 60,
   "metadata": {},
   "outputs": [],
   "source": [
    "plot_line_chart(processed_data,x_data_label=\"Steps\",y_data_label=\"High Arm Rate (%)\",save_path=\"./figures/high_arm_rate_vs_step.pdf\")"
   ]
  },
  {
   "cell_type": "code",
   "execution_count": 61,
   "metadata": {},
   "outputs": [],
   "source": [
    "plot_line_chart(processed_data,x_data_label=\"Steps\",y_data_label=\"Low Arm Rate (%)\",save_path=\"./figures/low_arm_rate_vs_step.pdf\")"
   ]
  },
  {
   "cell_type": "markdown",
   "metadata": {},
   "source": [
    "# Sokoban Results"
   ]
  },
  {
   "cell_type": "code",
   "execution_count": 9,
   "metadata": {},
   "outputs": [],
   "source": [
    "sokoban_results = {\n",
    "    \"sokoban_main_archive\": \"5z8a6cog\",\n",
    "    \"sokoban_main_no_think_rl_archive\":\"46ihhpmx\",\n",
    "}\n",
    "\n",
    "\n",
    "for k,v in sokoban_results.items():\n",
    "    download_wandb_metrics(run_id=v,out_dir='./wandb_logs')"
   ]
  },
  {
   "cell_type": "code",
   "execution_count": 10,
   "metadata": {},
   "outputs": [],
   "source": [
    "file_name_to_table_name={\n",
    "    \"sokoban_main_archive\":\"RAGEN\",\n",
    "    \"sokoban_main_no_think_rl_archive\":\"no-think-RL\",\n",
    "}\n",
    "file_plot_dict={}\n",
    "for k in file_name_to_table_name.keys():\n",
    "    file_plot_dict[f\"./wandb_logs/{k}/metrics.csv\"] = file_name_to_table_name[k]"
   ]
  },
  {
   "cell_type": "code",
   "execution_count": 11,
   "metadata": {},
   "outputs": [],
   "source": [
    "metric_names_mapping={\n",
    "    \"metric/valid_action\":\"Valid Action\",\n",
    "    \"metric/effective_action\":\"Effective Action\",\n",
    "    \"metric/traj_length\":\"Turns\",\n",
    "    \"metric/finished\":\"Success Rate\",\n",
    "}"
   ]
  },
  {
   "cell_type": "code",
   "execution_count": 12,
   "metadata": {},
   "outputs": [],
   "source": [
    "processed_data = extract_metrics(file_plot_dict,metric_names_mapping)"
   ]
  },
  {
   "cell_type": "code",
   "execution_count": null,
   "metadata": {},
   "outputs": [],
   "source": [
    "\n",
    "for k,v in processed_data.items():\n",
    "    max_index = np.argmax(v[\"Success Rate\"])\n",
    "    for kk,vv in v.items():\n",
    "        processed_data[k][kk] = vv[max_index]\n",
    "        if kk==\"Success Rate\":\n",
    "            processed_data[k][kk]=processed_data[k][kk]*100/128"
   ]
  },
  {
   "cell_type": "code",
   "execution_count": 15,
   "metadata": {},
   "outputs": [
    {
     "data": {
      "text/plain": [
       "{'RAGEN': {'Steps': 40,\n",
       "  'Valid Action': 3.9375,\n",
       "  'Effective Action': 2.0546875,\n",
       "  'Turns': 4.4453125,\n",
       "  'Success Rate': 25.0},\n",
       " 'no-think-RL': {'Steps': 40,\n",
       "  'Valid Action': 0.875,\n",
       "  'Effective Action': 0.484375,\n",
       "  'Turns': 4.625,\n",
       "  'Success Rate': 14.0625}}"
      ]
     },
     "execution_count": 15,
     "metadata": {},
     "output_type": "execute_result"
    }
   ],
   "source": [
    "processed_data"
   ]
  },
  {
   "cell_type": "markdown",
   "metadata": {},
   "source": [
    "# Frozon Results"
   ]
  },
  {
   "cell_type": "code",
   "execution_count": null,
   "metadata": {},
   "outputs": [],
   "source": [
    "sokoban_results = {\n",
    "    \"frozenlake_main_archive\": \"zexswzel\",\n",
    "    \"frozenlake_main_no_think_rl_archive\":\"khkqagbh\",\n",
    "}\n",
    "\n",
    "\n",
    "for k,v in frozenlake_results.items():\n",
    "    download_wandb_metrics(run_id=v,out_dir='./wandb_logs')"
   ]
  },
  {
   "cell_type": "code",
   "execution_count": 17,
   "metadata": {},
   "outputs": [],
   "source": [
    "file_name_to_table_name={\n",
    "    \"frozenlake_main_archive\":\"RAGEN\",\n",
    "    \"frozenlake_main_no_think_rl_archive\":\"no-think-RL\",\n",
    "}\n",
    "file_plot_dict={}\n",
    "for k in file_name_to_table_name.keys():\n",
    "    file_plot_dict[f\"./wandb_logs/{k}/metrics.csv\"] = file_name_to_table_name[k]\n",
    "metric_names_mapping={\n",
    "    \"metric/valid_action\":\"Valid Action\",\n",
    "    \"metric/effective_action\":\"Effective Action\",\n",
    "    \"metric/traj_length\":\"Turns\",\n",
    "    \"metric/finished\":\"Success Rate\",\n",
    "}"
   ]
  },
  {
   "cell_type": "code",
   "execution_count": 18,
   "metadata": {},
   "outputs": [],
   "source": [
    "processed_data = extract_metrics(file_plot_dict,metric_names_mapping)"
   ]
  },
  {
   "cell_type": "code",
   "execution_count": null,
   "metadata": {},
   "outputs": [],
   "source": [
    "\n",
    "\n",
    "for k,v in processed_data.items():\n",
    "    max_index = np.argmax(v[\"Success Rate\"])\n",
    "    for kk,vv in v.items():\n",
    "        processed_data[k][kk] = vv[max_index]\n",
    "        if kk==\"Success Rate\":\n",
    "            processed_data[k][kk]=processed_data[k][kk]*100/128"
   ]
  },
  {
   "cell_type": "code",
   "execution_count": 20,
   "metadata": {},
   "outputs": [
    {
     "data": {
      "text/plain": [
       "{'RAGEN': {'Steps': 18,\n",
       "  'Valid Action': 2.8203125,\n",
       "  'Effective Action': 2.328125,\n",
       "  'Turns': 3.7109375,\n",
       "  'Success Rate': 45.3125},\n",
       " 'no-think-RL': {'Steps': 18,\n",
       "  'Valid Action': 0.2734375,\n",
       "  'Effective Action': 0.234375,\n",
       "  'Turns': 4.625,\n",
       "  'Success Rate': 9.375}}"
      ]
     },
     "execution_count": 20,
     "metadata": {},
     "output_type": "execute_result"
    }
   ],
   "source": [
    "processed_data"
   ]
  },
  {
   "cell_type": "markdown",
   "metadata": {},
   "source": [
    "# Prompt Diversity"
   ]
  },
  {
   "cell_type": "code",
   "execution_count": 21,
   "metadata": {},
   "outputs": [],
   "source": [
    "file_name_to_id = {\n",
    "    \"sokoban_ablation_p32n4_archive\": \"d7mmuycz\",\n",
    "    \"sokoban_ablation_p64n2_archive\":\"6ztyjq6i\",\n",
    "    \"sokoban_ablation_p16n8_archive\":\"zsfku6gz\",\n",
    "    \"sokoban_ablation_p4n32_archive\":\"xif2lpo8\",\n",
    "    \"sokoban_ablation_p2n64_archive\":\"ljrdx916\"\n",
    "}\n",
    "\n",
    "\n",
    "for k,v in file_name_to_id.items():\n",
    "    download_wandb_metrics(run_id=v,out_dir='./wandb_logs')"
   ]
  },
  {
   "cell_type": "code",
   "execution_count": 22,
   "metadata": {},
   "outputs": [],
   "source": [
    "file_name_mapping={\n",
    "    \"sokoban_ablation_p32n4_archive\": 32,\n",
    "    \"sokoban_ablation_p64n2_archive\":64,\n",
    "    \"sokoban_ablation_p16n8_archive\":16,\n",
    "    \"sokoban_ablation_p4n32_archive\":4,\n",
    "    #\"sokoban_ablation_p2n64_archive\":2\n",
    "}\n",
    "file_plot_dict={}\n",
    "for k in file_name_mapping.keys():\n",
    "    file_plot_dict[f\"./wandb_logs/{k}/metrics.csv\"] = file_name_mapping[k]\n",
    "metric_names_mapping={\n",
    "    \"metric/valid_action\":\"Valid Action\",\n",
    "    \"metric/effective_action\":\"Effective Action\",\n",
    "    \"metric/traj_length\":\"Turns\",\n",
    "    \"metric/finished\":\"Success Rate\",\n",
    "}"
   ]
  },
  {
   "cell_type": "code",
   "execution_count": 23,
   "metadata": {},
   "outputs": [],
   "source": [
    "processed_data = extract_metrics(file_plot_dict,metric_names_mapping)"
   ]
  },
  {
   "cell_type": "code",
   "execution_count": null,
   "metadata": {},
   "outputs": [],
   "source": [
    "for k,v in processed_data.items():\n",
    "    \n",
    "    #max_index=np.argmax(v[\"Success Rate\"])\n",
    "    # get the second max index\n",
    "    max_index=np.argsort(v[\"Success Rate\"])[-1]\n",
    "    \n",
    "    for kk,vv in v.items():\n",
    "        # get the max index\n",
    "        processed_data[k][kk] = vv[max_index]\n",
    "        if kk==\"Success Rate\":\n",
    "            processed_data[k][kk]=processed_data[k][kk]*100/128"
   ]
  },
  {
   "cell_type": "code",
   "execution_count": 25,
   "metadata": {},
   "outputs": [],
   "source": [
    "new_results = {}\n",
    "prompt_diversity=list(processed_data.keys())\n",
    "prompt_diversity.sort()\n",
    "new_results[\"RAGEN\"] = {\n",
    "    \"Prompt Diversity\":prompt_diversity,\n",
    "    \"Success Rate (%)\": [processed_data[k][\"Success Rate\"] for k in prompt_diversity],\n",
    "}"
   ]
  },
  {
   "cell_type": "code",
   "execution_count": 26,
   "metadata": {},
   "outputs": [],
   "source": [
    "plot_line_chart(new_results,\n",
    "                x_data_label=\"Prompt Diversity\",\n",
    "                y_data_label=\"Success Rate (%)\",\n",
    "                save_path=\"./figures/prompt_diversity.pdf\",\n",
    "                use_log_scale=True,log_base=2)"
   ]
  },
  {
   "cell_type": "markdown",
   "metadata": {},
   "source": [
    "# Different Algorithm"
   ]
  },
  {
   "cell_type": "code",
   "execution_count": 27,
   "metadata": {},
   "outputs": [],
   "source": [
    "file_name_to_id = {\n",
    "    \"sokoban_brpo_archive\": \"zcng8j4k\",\n",
    "    \"sokoban_arpo_archive\":\"6vijzn23\",\n",
    "    \"sokoban_main_archive\":\"5z8a6cog\",\n",
    "    \"frozenlake_brpo_archive\":\"obzkp1wc\",\n",
    "    \"frozenlake_arpo_archive\":\"ifastrrz\",\n",
    "    \"frozenlake_main_archive\":\"zexswzel\",\n",
    "}\n",
    "\n",
    "for k,v in file_name_to_id.items():\n",
    "    download_wandb_metrics(run_id=v,out_dir='./wandb_logs')"
   ]
  },
  {
   "cell_type": "code",
   "execution_count": 28,
   "metadata": {},
   "outputs": [],
   "source": [
    "file_name_mapping={\n",
    "    \"sokoban_arpo_archive\":\"ARPO\",\n",
    "    \"sokoban_brpo_archive\": \"BRPO\",\n",
    "    \"sokoban_main_archive\":\"GRPO\",\n",
    "}\n",
    "file_plot_dict={}\n",
    "for k in file_name_mapping.keys():\n",
    "    file_plot_dict[f\"./wandb_logs/{k}/metrics.csv\"] = file_name_mapping[k]\n",
    "metric_names_mapping={\n",
    "    \"metric/valid_action\":\"Valid Action\",\n",
    "    \"metric/effective_action\":\"Effective Action\",\n",
    "    \"metric/traj_length\":\"Turns\",\n",
    "    \"metric/finished\":\"Success Rate (%)\",\n",
    "    \"_step\":\"Steps\"\n",
    "}"
   ]
  },
  {
   "cell_type": "code",
   "execution_count": 29,
   "metadata": {},
   "outputs": [],
   "source": [
    "processed_data = extract_metrics(file_plot_dict,metric_names_mapping,hard_cut_off=18)"
   ]
  },
  {
   "cell_type": "code",
   "execution_count": 30,
   "metadata": {},
   "outputs": [],
   "source": [
    "plot_line_chart(processed_data,\n",
    "                x_data_label=\"Steps\",\n",
    "                y_data_label=\"Success Rate (%)\",\n",
    "                save_path=\"./figures/sokoban_algorithm.pdf\",\n",
    "                )"
   ]
  },
  {
   "cell_type": "code",
   "execution_count": 31,
   "metadata": {},
   "outputs": [],
   "source": [
    "file_name_mapping={\n",
    "    \"frozenlake_arpo_archive\":\"ARPO\",\n",
    "    \"frozenlake_brpo_archive\":\"BRPO\",\n",
    "    \"frozenlake_main_archive\":\"GRPO\",\n",
    "}\n",
    "file_plot_dict={}\n",
    "for k in file_name_mapping.keys():\n",
    "    file_plot_dict[f\"./wandb_logs/{k}/metrics.csv\"] = file_name_mapping[k]\n",
    "metric_names_mapping={\n",
    "    \"metric/valid_action\":\"Valid Action\",\n",
    "    \"metric/effective_action\":\"Effective Action\",\n",
    "    \"metric/traj_length\":\"Turns\",\n",
    "    \"metric/finished\":\"Success Rate (%)\",\n",
    "    \"_step\":\"Steps\"\n",
    "}\n",
    "processed_data = extract_metrics(file_plot_dict,metric_names_mapping,hard_cut_off=18)\n",
    "plot_line_chart(processed_data,\n",
    "                x_data_label=\"Steps\",\n",
    "                y_data_label=\"Success Rate (%)\",\n",
    "                save_path=\"./figures/frozonlake_algorithm.pdf\",\n",
    "                )"
   ]
  },
  {
   "cell_type": "markdown",
   "metadata": {},
   "source": [
    "# Offline"
   ]
  },
  {
   "cell_type": "code",
   "execution_count": 32,
   "metadata": {},
   "outputs": [],
   "source": [
    "file_name_to_id = {\n",
    "    \"sokoban_ablation_offline2_archive\": \"gilgbeo2\",\n",
    "    \"sokoban_ablation_offline5_archive\":\"rh1a08w1\",\n",
    "    \"sokoban_ablation_offline10_archive\":\"86xslll0\",\n",
    "    \"sokoban_ablation_offline20_archive\":\"jm0wh04h\",\n",
    "}\n",
    "\n",
    "\n",
    "for k,v in file_name_to_id.items():\n",
    "    download_wandb_metrics(run_id=v,out_dir='./wandb_logs')"
   ]
  },
  {
   "cell_type": "code",
   "execution_count": 33,
   "metadata": {},
   "outputs": [],
   "source": [
    "file_name_mapping={\n",
    "    \"sokoban_ablation_offline2_archive\": 2,\n",
    "    \"sokoban_ablation_offline5_archive\":5,\n",
    "    \"sokoban_ablation_offline10_archive\":10,\n",
    "    \"sokoban_ablation_offline20_archive\":20,\n",
    "}\n",
    "file_plot_dict={}\n",
    "for k in file_name_mapping.keys():\n",
    "    file_plot_dict[f\"./wandb_logs/{k}/metrics.csv\"] = file_name_mapping[k]\n",
    "metric_names_mapping={\n",
    "    \"metric/valid_action\":\"Valid Action\",\n",
    "    \"metric/effective_action\":\"Effective Action\",\n",
    "    \"metric/traj_length\":\"Turns\",\n",
    "    \"metric/finished\":\"Success Rate\",\n",
    "}\n",
    "processed_data = extract_metrics(file_plot_dict,metric_names_mapping)\n",
    "for k,v in processed_data.items():\n",
    "    \n",
    "    #max_index=np.argmax(v[\"Success Rate\"])\n",
    "    # get the second max index\n",
    "    #max_index=np.argsort(v[\"Success Rate\"][20:])[-1]\n",
    "    max_index=len(v[\"Success Rate\"])-1\n",
    "    for kk,vv in v.items():\n",
    "        # get the max index\n",
    "        processed_data[k][kk] = vv[max_index]\n",
    "        if kk==\"Success Rate\":\n",
    "            processed_data[k][kk]=processed_data[k][kk]*100/128/k"
   ]
  },
  {
   "cell_type": "code",
   "execution_count": 34,
   "metadata": {},
   "outputs": [
    {
     "data": {
      "text/plain": [
       "{2: {'Steps': 3,\n",
       "  'Valid Action': 2.484375,\n",
       "  'Effective Action': 0.90625,\n",
       "  'Turns': 4.7890625,\n",
       "  'Success Rate': 7.03125},\n",
       " 5: {'Steps': 3,\n",
       "  'Valid Action': 2.721875,\n",
       "  'Effective Action': 1.065625,\n",
       "  'Turns': 4.5875,\n",
       "  'Success Rate': 12.96875},\n",
       " 10: {'Steps': 3,\n",
       "  'Valid Action': 3.63203125,\n",
       "  'Effective Action': 1.39140625,\n",
       "  'Turns': 4.559375,\n",
       "  'Success Rate': 14.296875},\n",
       " 20: {'Steps': 3,\n",
       "  'Valid Action': 3.790625,\n",
       "  'Effective Action': 1.3078125,\n",
       "  'Turns': 4.50078125,\n",
       "  'Success Rate': 16.2109375}}"
      ]
     },
     "execution_count": 34,
     "metadata": {},
     "output_type": "execute_result"
    }
   ],
   "source": [
    "processed_data"
   ]
  },
  {
   "cell_type": "markdown",
   "metadata": {},
   "source": [
    "# Bandits Analysis"
   ]
  },
  {
   "cell_type": "code",
   "execution_count": 35,
   "metadata": {},
   "outputs": [],
   "source": [
    "file_name_to_id = {\n",
    "    \"bandit_genea_reverse_no_think_rl\": \"hs2370nr\",\n",
    "    \"bandit_genea_reverse\":\"3vwhtrme\",\n",
    "    \"bandit_genea_regular_no_think_rl\":\"g9dlkrhr\",\n",
    "    \"bandit_genea_regular\":\"7bqfe4y1\",\n",
    "    \"bandit_genea_reverse_testdiff_archive\":\"h42n6i2t\",\n",
    "    \"bandit_genea_reverse_testdiff_no_think_rl_archive\":\"iad87j0f\",\n",
    "}\n",
    "for k,v in file_name_to_id.items():\n",
    "    download_wandb_metrics(run_id=v,out_dir='./wandb_logs')\n",
    "    \n",
    "file_name_mapping={\n",
    "    \"bandit_genea_regular\":\"[Teacher, Engineer] (RAGEN)\",\n",
    "    \"bandit_genea_regular_no_think_rl\":\"[Teacher, Engineer] (No-think RL)\",\n",
    "    \"bandit_genea_reverse\":\"[Engineer, Teacher] (RAGEN)\",\n",
    "    \"bandit_genea_reverse_no_think_rl\": \"[Engineer, Teacher] (No-think RL)\",\n",
    "    \"bandit_genea_reverse_testdiff_archive\":\"[Engineer, Teacher] -> [Trader, Librarian] (RAGEN)\",\n",
    "    \"bandit_genea_reverse_testdiff_no_think_rl_archive\":\"[Engineer, Teacher] -> [Trader, Librarian] (No-think RL)\",\n",
    "}"
   ]
  },
  {
   "cell_type": "code",
   "execution_count": 36,
   "metadata": {},
   "outputs": [],
   "source": [
    "file_plot_dict={}\n",
    "for k in file_name_mapping.keys():\n",
    "    file_plot_dict[f\"./wandb_logs/{k}/metrics.csv\"] = file_name_mapping[k]\n",
    "metric_names_mapping={\n",
    "    \"_step\":\"Steps\",\n",
    "    \"metric/n_high_arm\":\"High Arm Rate (%)\",\n",
    "    \"metric/n_low_arm\":\"Low Arm Rate (%)\",\n",
    "}\n",
    "processed_data = extract_metrics(file_plot_dict,metric_names_mapping)"
   ]
  },
  {
   "cell_type": "code",
   "execution_count": 37,
   "metadata": {},
   "outputs": [],
   "source": [
    "plot_line_chart(processed_data,x_data_label=\"Steps\",y_data_label=\"High Arm Rate (%)\",\n",
    "             save_path=\"./figures/analysis_high_arm_rate_vs_step.pdf\")\n",
    "plot_line_chart(processed_data,x_data_label=\"Steps\",y_data_label=\"Low Arm Rate (%)\",\n",
    "             save_path=\"./figures/analysis_low_arm_rate_vs_step.pdf\")"
   ]
  },
  {
   "cell_type": "markdown",
   "metadata": {},
   "source": [
    "## Scaling Model Size"
   ]
  },
  {
   "cell_type": "code",
   "execution_count": null,
   "metadata": {},
   "outputs": [],
   "source": [
    "file_name_to_id = {\n",
    "    \"sokoban_main_Qwen_1_5B\": \"y8oxwch3\",\n",
    "    \"sokoban_main_Qwen_3B\":\"27ymjev4\",\n",
    "    \"sokoban_main_Qwen_0_5B\":\"d6ajd34v\"\n",
    "    \n",
    "}\n",
    "for k,v in file_name_to_id.items():\n",
    "    download_wandb_metrics(run_id=v,out_dir='./wandb_logs')\n",
    "    \n",
    "file_name_mapping={\n",
    "    \"sokoban_main_Qwen_0_5B\":\"Qwen 0.5B\",\n",
    "     \"sokoban_main_Qwen_1_5B\":\"Qwen 1.5B\",\n",
    "    \"sokoban_main_Qwen_3B\":\"Qwen 3B\",\n",
    "    \n",
    "    \n",
    "}\n",
    "file_plot_dict={}\n",
    "for k in file_name_mapping.keys():\n",
    "    file_plot_dict[f\"./wandb_logs/{k}/metrics.csv\"] = file_name_mapping[k]\n",
    "metric_names_mapping={\n",
    "    \"_step\":\"Steps\",\n",
    "    \"metric/finished_env\":\"Finished Env\",\n",
    "    \"metric/total_env\":\"Total Env\",\n",
    "    \n",
    "}\n",
    "processed_data = extract_metrics(file_plot_dict,metric_names_mapping)\n"
   ]
  },
  {
   "cell_type": "code",
   "execution_count": 39,
   "metadata": {},
   "outputs": [],
   "source": [
    "for k,v in processed_data.items():\n",
    "    processed_data[k][\"Success Rate (%)\"] = v[\"Finished Env\"]/v[\"Total Env\"]*100"
   ]
  },
  {
   "cell_type": "code",
   "execution_count": 40,
   "metadata": {},
   "outputs": [],
   "source": [
    "plot_line_chart(processed_data,x_data_label=\"Steps\",y_data_label=\"Success Rate (%)\",\n",
    "             save_path=\"./figures/scaling_model_size.pdf\")"
   ]
  },
  {
   "cell_type": "markdown",
   "metadata": {},
   "source": [
    "## Scaling Horizon\n"
   ]
  },
  {
   "cell_type": "code",
   "execution_count": 44,
   "metadata": {},
   "outputs": [],
   "source": [
    "file_name_to_id = {\n",
    "    \"frozenlake_horizon_20\": \"di8acl6m\",\n",
    "    \"frozenlake_horizon_15\":\"yvzsldol\",\n",
    "    \"frozenlake_horizon_10\":\"o0je56o3\"\n",
    "    \n",
    "}\n",
    "for k,v in file_name_to_id.items():\n",
    "    download_wandb_metrics(run_id=v,out_dir='./wandb_logs')\n",
    "    \n",
    "file_name_mapping={\n",
    "    \"frozenlake_horizon_10\":\"10 Turns\",\n",
    "     \"frozenlake_horizon_15\":\"15 Turns\",\n",
    "    \"frozenlake_horizon_20\":\"20 Truns\",\n",
    "}\n",
    "file_plot_dict={}\n",
    "for k in file_name_mapping.keys():\n",
    "    file_plot_dict[f\"./wandb_logs/{k}/metrics.csv\"] = file_name_mapping[k]\n",
    "metric_names_mapping={\n",
    "    \"_step\":\"Steps\",\n",
    "    \"metric/finished_env\":\"Finished Env\",\n",
    "    \"metric/total_env\":\"Total Env\",\n",
    "    \n",
    "}\n",
    "processed_data = extract_metrics(file_plot_dict,metric_names_mapping)\n",
    "for k,v in processed_data.items():\n",
    "    processed_data[k][\"Success Rate (%)\"] = v[\"Finished Env\"]/v[\"Total Env\"]*100\n",
    "plot_line_chart(processed_data,x_data_label=\"Steps\",y_data_label=\"Success Rate (%)\",\n",
    "             save_path=\"./figures/scaling_horizon_frozen.pdf\")\n"
   ]
  },
  {
   "cell_type": "code",
   "execution_count": 45,
   "metadata": {},
   "outputs": [],
   "source": [
    "file_name_to_id = {\n",
    "    \"sokoban_horizon_20\": \"9ak5y9rj\",\n",
    "    \"sokoban_horizon_15\":\"hekcppay\",\n",
    "    \"sokoban_horizon_10\":\"vfcrb9k3\"\n",
    "    \n",
    "}\n",
    "for k,v in file_name_to_id.items():\n",
    "    download_wandb_metrics(run_id=v,out_dir='./wandb_logs')\n",
    "    \n",
    "file_name_mapping={\n",
    "    \"sokoban_horizon_10\":\"10 Turns\",\n",
    "     \"sokoban_horizon_15\":\"15 Turns\",\n",
    "    \"sokoban_horizon_20\":\"20 Truns\",\n",
    "}\n",
    "file_plot_dict={}\n",
    "for k in file_name_mapping.keys():\n",
    "    file_plot_dict[f\"./wandb_logs/{k}/metrics.csv\"] = file_name_mapping[k]\n",
    "metric_names_mapping={\n",
    "    \"_step\":\"Steps\",\n",
    "    \"metric/finished_env\":\"Finished Env\",\n",
    "    \"metric/total_env\":\"Total Env\",\n",
    "    \n",
    "}\n",
    "processed_data = extract_metrics(file_plot_dict,metric_names_mapping)\n",
    "for k,v in processed_data.items():\n",
    "    processed_data[k][\"Success Rate (%)\"] = v[\"Finished Env\"]/v[\"Total Env\"]*100\n",
    "plot_line_chart(processed_data,x_data_label=\"Steps\",y_data_label=\"Success Rate (%)\",\n",
    "             save_path=\"./figures/scaling_horizon_sokoban.pdf\")"
   ]
  },
  {
   "cell_type": "markdown",
   "metadata": {},
   "source": [
    "## Instruct vs Base"
   ]
  },
  {
   "cell_type": "code",
   "execution_count": 46,
   "metadata": {},
   "outputs": [],
   "source": [
    "file_name_to_id = {\n",
    "    \"sokoban_abl_base\":\"yzztq7p7\",\n",
    "    #\"sokoban_main_Qwen_3B\":\"27ymjev4\",\n",
    "    \"sokoban_main_Qwen_0_5B\":\"d6ajd34v\",\n",
    "    \"sokoban_main_Qwen_1_5B\": \"y8oxwch3\",\n",
    "    \"sokoban_main_Qwen_1_5B_Base\":\"a27bq2ll\",\n",
    "    \n",
    "}\n",
    "for k,v in file_name_to_id.items():\n",
    "    download_wandb_metrics(run_id=v,out_dir='./wandb_logs')\n",
    "    \n",
    "file_name_mapping={\n",
    "    \"sokoban_main_Qwen_0_5B\":\"Qwen 0.5B Instruct\",\n",
    "     \"sokoban_main_Qwen_1_5B\":\"Qwen 1.5B Instruct\",\n",
    "    \"sokoban_abl_base\":\"Qwen 0.5B Base\",\n",
    "    \"sokoban_main_Qwen_1_5B_Base\":\"Qwen 1.5B Base\",\n",
    "}\n",
    "file_plot_dict={}\n",
    "for k in file_name_mapping.keys():\n",
    "    file_plot_dict[f\"./wandb_logs/{k}/metrics.csv\"] = file_name_mapping[k]\n",
    "metric_names_mapping={\n",
    "    \"_step\":\"Steps\",\n",
    "    \"metric/finished_env\":\"Finished Env\",\n",
    "    \"metric/total_env\":\"Total Env\",\n",
    "    \n",
    "}\n",
    "processed_data = extract_metrics(file_plot_dict,metric_names_mapping)\n",
    "for k,v in processed_data.items():\n",
    "    processed_data[k][\"Success Rate (%)\"] = v[\"Finished Env\"]/v[\"Total Env\"]*100\n",
    "plot_line_chart(processed_data,x_data_label=\"Steps\",y_data_label=\"Success Rate (%)\",\n",
    "             save_path=\"./figures/base_vs_instruct_sokoban.pdf\")\n"
   ]
  },
  {
   "cell_type": "markdown",
   "metadata": {},
   "source": [
    "## Scaling Model New"
   ]
  },
  {
   "cell_type": "code",
   "execution_count": null,
   "metadata": {},
   "outputs": [
    {
     "ename": "ValueError",
     "evalue": "File logs not found in zihanwang-ai-northwestern-university/RAGEN/27ymjev4.",
     "output_type": "error",
     "traceback": [
      "\u001b[0;31m---------------------------------------------------------------------------\u001b[0m",
      "\u001b[0;31mValueError\u001b[0m                                Traceback (most recent call last)",
      "Cell \u001b[0;32mIn[83], line 8\u001b[0m\n\u001b[1;32m      1\u001b[0m file_name_to_id \u001b[38;5;241m=\u001b[39m {\n\u001b[1;32m      2\u001b[0m     \u001b[38;5;66;03m# \"sokoban_main_Qwen_1_5B\": \"y8oxwch3\",\u001b[39;00m\n\u001b[1;32m      3\u001b[0m     \u001b[38;5;124m\"\u001b[39m\u001b[38;5;124msokoban_main_Qwen_3B\u001b[39m\u001b[38;5;124m\"\u001b[39m:\u001b[38;5;124m\"\u001b[39m\u001b[38;5;124m27ymjev4\u001b[39m\u001b[38;5;124m\"\u001b[39m,\n\u001b[1;32m      4\u001b[0m     \u001b[38;5;124m\"\u001b[39m\u001b[38;5;124msokoban_main_Qwen_0_5B\u001b[39m\u001b[38;5;124m\"\u001b[39m:\u001b[38;5;124m\"\u001b[39m\u001b[38;5;124md6ajd34v\u001b[39m\u001b[38;5;124m\"\u001b[39m\n\u001b[1;32m      5\u001b[0m     \n\u001b[1;32m      6\u001b[0m }\n\u001b[1;32m      7\u001b[0m \u001b[38;5;28;01mfor\u001b[39;00m k,v \u001b[38;5;129;01min\u001b[39;00m file_name_to_id\u001b[38;5;241m.\u001b[39mitems():\n\u001b[0;32m----> 8\u001b[0m     \u001b[43mdownload_wandb_logs\u001b[49m\u001b[43m(\u001b[49m\u001b[43mrun_id\u001b[49m\u001b[38;5;241;43m=\u001b[39;49m\u001b[43mv\u001b[49m\u001b[43m,\u001b[49m\u001b[43mout_dir\u001b[49m\u001b[38;5;241;43m=\u001b[39;49m\u001b[38;5;124;43mf\u001b[39;49m\u001b[38;5;124;43m'\u001b[39;49m\u001b[38;5;124;43m./wandb_logs_all_files/\u001b[39;49m\u001b[38;5;132;43;01m{\u001b[39;49;00m\u001b[43mk\u001b[49m\u001b[38;5;132;43;01m}\u001b[39;49;00m\u001b[38;5;124;43m'\u001b[39;49m\u001b[43m,\u001b[49m\u001b[43mteam\u001b[49m\u001b[38;5;241;43m=\u001b[39;49m\u001b[38;5;124;43m\"\u001b[39;49m\u001b[38;5;124;43mzihanwang-ai-northwestern-university\u001b[39;49m\u001b[38;5;124;43m\"\u001b[39;49m\u001b[43m,\u001b[49m\u001b[43m \u001b[49m\u001b[43mproject\u001b[49m\u001b[38;5;241;43m=\u001b[39;49m\u001b[38;5;124;43m\"\u001b[39;49m\u001b[38;5;124;43mRAGEN\u001b[39;49m\u001b[38;5;124;43m\"\u001b[39;49m\u001b[43m)\u001b[49m\n",
      "File \u001b[0;32m~/projects/ragen/ragen/ragen/utils/wandb_utils.py:24\u001b[0m, in \u001b[0;36mdownload_wandb_logs\u001b[0;34m(run_id, out_dir, team, project)\u001b[0m\n\u001b[1;32m     21\u001b[0m     except Exception as e:\n\u001b[1;32m     22\u001b[0m         print(f\"Failed to download output.log: {e}\")\n\u001b[0;32m---> 24\u001b[0m # usage: \n\u001b[1;32m     25\u001b[0m # from ragen.utils.wandb import download_wandb\n\u001b[1;32m     26\u001b[0m # download_wandb(\"9o465jqj\")\n\u001b[1;32m     27\u001b[0m def download_wandb_metrics(run_id, out_dir=\"./log\", team=\"zihanwang-ai-northwestern-university\", project=\"RAGEN\", save_format=\"csv\"):\n\u001b[1;32m     28\u001b[0m     \"\"\"\n\u001b[1;32m     29\u001b[0m     Download all metrics from a W&B run and save them in a folder named after the experiment.\n\u001b[1;32m     30\u001b[0m     \n\u001b[0;32m   (...)\u001b[0m\n\u001b[1;32m     39\u001b[0m         tuple: Paths to the saved metrics and summary files\n\u001b[1;32m     40\u001b[0m     \"\"\"\n",
      "File \u001b[0;32m~/miniconda3/envs/ragen/lib/python3.9/site-packages/wandb/sdk/wandb_run.py:4105\u001b[0m, in \u001b[0;36mrestore\u001b[0;34m(name, run_path, replace, root)\u001b[0m\n\u001b[1;32m   4103\u001b[0m \u001b[38;5;66;03m# if the file does not exist, the file has an md5 of 0\u001b[39;00m\n\u001b[1;32m   4104\u001b[0m \u001b[38;5;28;01mif\u001b[39;00m files[\u001b[38;5;241m0\u001b[39m]\u001b[38;5;241m.\u001b[39mmd5 \u001b[38;5;241m==\u001b[39m \u001b[38;5;124m\"\u001b[39m\u001b[38;5;124m0\u001b[39m\u001b[38;5;124m\"\u001b[39m:\n\u001b[0;32m-> 4105\u001b[0m     \u001b[38;5;28;01mraise\u001b[39;00m \u001b[38;5;167;01mValueError\u001b[39;00m(\u001b[38;5;124mf\u001b[39m\u001b[38;5;124m\"\u001b[39m\u001b[38;5;124mFile \u001b[39m\u001b[38;5;132;01m{\u001b[39;00mname\u001b[38;5;132;01m}\u001b[39;00m\u001b[38;5;124m not found in \u001b[39m\u001b[38;5;132;01m{\u001b[39;00mrun_path\u001b[38;5;250m \u001b[39m\u001b[38;5;129;01mor\u001b[39;00m\u001b[38;5;250m \u001b[39mroot\u001b[38;5;132;01m}\u001b[39;00m\u001b[38;5;124m.\u001b[39m\u001b[38;5;124m\"\u001b[39m)\n\u001b[1;32m   4106\u001b[0m \u001b[38;5;28;01mreturn\u001b[39;00m files[\u001b[38;5;241m0\u001b[39m]\u001b[38;5;241m.\u001b[39mdownload(root\u001b[38;5;241m=\u001b[39mroot, replace\u001b[38;5;241m=\u001b[39m\u001b[38;5;28;01mTrue\u001b[39;00m)\n",
      "\u001b[0;31mValueError\u001b[0m: File logs not found in zihanwang-ai-northwestern-university/RAGEN/27ymjev4."
     ]
    }
   ],
   "source": [
    "#"
   ]
  },
  {
   "cell_type": "code",
   "execution_count": null,
   "metadata": {},
   "outputs": [],
   "source": [
    "import wandb\n",
    "api = wandb.Api()\n",
    "run = api.run(f\"{team}/{project}/{run_id}\")\n",
    "    \n",
    "# Use wandb.restore to download output.log\n",
    "log_file = wandb.restore(\"logs\", run_path=\"/\".join(run.path))"
   ]
  }
 ],
 "metadata": {
  "kernelspec": {
   "display_name": "ragen",
   "language": "python",
   "name": "python3"
  },
  "language_info": {
   "codemirror_mode": {
    "name": "ipython",
    "version": 3
   },
   "file_extension": ".py",
   "mimetype": "text/x-python",
   "name": "python",
   "nbconvert_exporter": "python",
   "pygments_lexer": "ipython3",
   "version": "3.9.21"
  }
 },
 "nbformat": 4,
 "nbformat_minor": 2
}
