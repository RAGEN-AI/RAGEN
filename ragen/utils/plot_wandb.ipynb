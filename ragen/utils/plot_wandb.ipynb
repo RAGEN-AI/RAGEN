{
 "cells": [
  {
   "cell_type": "code",
   "execution_count": 1,
   "metadata": {},
   "outputs": [],
   "source": [
    "%load_ext autoreload\n",
    "%autoreload 2"
   ]
  },
  {
   "cell_type": "code",
   "execution_count": 2,
   "metadata": {},
   "outputs": [],
   "source": [
    "from wandb_utils import download_wandb_metrics\n",
    "import pandas as pd\n",
    "import os\n",
    "from plot_utils import plot_line_chart,extract_metrics\n",
    "import numpy as np"
   ]
  },
  {
   "cell_type": "code",
   "execution_count": 3,
   "metadata": {},
   "outputs": [],
   "source": [
    "team=\"zihanwang-ai-northwestern-university\"\n",
    "project=\"RAGEN\""
   ]
  },
  {
   "cell_type": "markdown",
   "metadata": {},
   "source": [
    "## Bandit Results\n",
    "This figure is the low arm and high arm rate for the normal and reverse of the no think and main bandit"
   ]
  },
  {
   "cell_type": "code",
   "execution_count": 4,
   "metadata": {},
   "outputs": [],
   "source": [
    "\n",
    "\n",
    "\n",
    "figure4_bandit_results = {\n",
    "    \"bandit_no_think_rl_archive\": \"1gyb6m0f\",\n",
    "    \"bandit_reverse_no_think_rl_archive\":\"qrgyldl3\",\n",
    "    \"bandit_main_archive\":\"d4rw9kmn\",\n",
    "    \"bandit_reverse_archive\":\"jbe3s5bb\",\n",
    "}\n",
    "\n",
    "\n",
    "for k,v in figure4_bandit_results.items():\n",
    "    download_wandb_metrics(team=team,project=project,run_id=v,out_dir='./wandb_logs')\n",
    "\n"
   ]
  },
  {
   "cell_type": "code",
   "execution_count": 5,
   "metadata": {},
   "outputs": [],
   "source": [
    "file_name_to_plot_name={\n",
    "    \"bandit_no_think_rl_archive\":\"no-think-RL\",\n",
    "    \"bandit_reverse_no_think_rl_archive\":\"no-think-RL-reverse\",\n",
    "    \"bandit_main_archive\":\"RAGEN\",\n",
    "    \"bandit_reverse_archive\":\"RAGEN-reverse\",\n",
    "    \n",
    "}\n",
    "file_plot_dict={}\n",
    "for k in figure4_bandit_results.keys():\n",
    "    file_plot_dict[f\"./wandb_logs/{k}/metrics.csv\"] = file_name_to_plot_name[k]"
   ]
  },
  {
   "cell_type": "code",
   "execution_count": 6,
   "metadata": {},
   "outputs": [],
   "source": [
    "\n",
    "metric_names_mapping={\n",
    "    \"metric/n_high_arm\":\"Row High Arm Rate (%)\",\n",
    "    \"metric/n_low_arm\":\"Row Low Arm Rate (%)\",\n",
    "    \"_step\":\"Steps\",\n",
    "}"
   ]
  },
  {
   "cell_type": "code",
   "execution_count": 7,
   "metadata": {},
   "outputs": [
    {
     "name": "stdout",
     "output_type": "stream",
     "text": [
      "no-think-RL 56\n",
      "no-think-RL-reverse 44\n",
      "RAGEN 56\n",
      "RAGEN-reverse 50\n"
     ]
    }
   ],
   "source": [
    "processed_data = extract_metrics(file_plot_dict,metric_names_mapping)"
   ]
  },
  {
   "cell_type": "code",
   "execution_count": 8,
   "metadata": {},
   "outputs": [],
   "source": [
    "for k,v in processed_data.items():\n",
    "    # recalculate the rate as high/(high+low) and low/(high+low)\n",
    "    v[\"High Arm Rate (%)\"] = v[\"Row High Arm Rate (%)\"]/128*100 \n",
    "    v[\"Low Arm Rate (%)\"] = v[\"Row Low Arm Rate (%)\"]/128*100"
   ]
  },
  {
   "cell_type": "code",
   "execution_count": 10,
   "metadata": {},
   "outputs": [],
   "source": [
    "plot_line_chart(processed_data,x_data_label=\"Steps\",y_data_label=\"High Arm Rate (%)\",save_path=\"./figures/high_arm_rate_vs_step.pdf\",smooth=True)"
   ]
  },
  {
   "cell_type": "code",
   "execution_count": 10,
   "metadata": {},
   "outputs": [],
   "source": [
    "plot_line_chart(processed_data,x_data_label=\"Steps\",y_data_label=\"Low Arm Rate (%)\",save_path=\"./figures/low_arm_rate_vs_step.pdf\",smooth=True)"
   ]
  },
  {
   "cell_type": "markdown",
   "metadata": {},
   "source": [
    "# Sokoban Results"
   ]
  },
  {
   "cell_type": "code",
   "execution_count": 11,
   "metadata": {},
   "outputs": [],
   "source": [
    "sokoban_results = {\n",
    "    \"sokoban_main_archive\": \"5z8a6cog\",\n",
    "    \"sokoban_main_no_think_rl_archive\":\"46ihhpmx\",\n",
    "}\n",
    "\n",
    "\n",
    "for k,v in sokoban_results.items():\n",
    "    download_wandb_metrics(team=team,project=project,run_id=v,out_dir='./wandb_logs')"
   ]
  },
  {
   "cell_type": "code",
   "execution_count": 12,
   "metadata": {},
   "outputs": [],
   "source": [
    "file_name_to_table_name={\n",
    "    \"sokoban_main_archive\":\"RAGEN\",\n",
    "    \"sokoban_main_no_think_rl_archive\":\"no-think-RL\",\n",
    "}\n",
    "file_plot_dict={}\n",
    "for k in file_name_to_table_name.keys():\n",
    "    file_plot_dict[f\"./wandb_logs/{k}/metrics.csv\"] = file_name_to_table_name[k]"
   ]
  },
  {
   "cell_type": "code",
   "execution_count": 13,
   "metadata": {},
   "outputs": [],
   "source": [
    "metric_names_mapping={\n",
    "    \"metric/valid_action\":\"Valid Action\",\n",
    "    \"metric/effective_action\":\"Effective Action\",\n",
    "    \"metric/traj_length\":\"Turns\",\n",
    "    \"metric/finished\":\"Success Rate\",\n",
    "}"
   ]
  },
  {
   "cell_type": "code",
   "execution_count": 14,
   "metadata": {},
   "outputs": [
    {
     "name": "stdout",
     "output_type": "stream",
     "text": [
      "RAGEN 78\n",
      "no-think-RL 76\n"
     ]
    }
   ],
   "source": [
    "processed_data = extract_metrics(file_plot_dict,metric_names_mapping)"
   ]
  },
  {
   "cell_type": "code",
   "execution_count": 15,
   "metadata": {},
   "outputs": [],
   "source": [
    "\n",
    "for k,v in processed_data.items():\n",
    "    max_index = np.argmax(v[\"Success Rate\"])\n",
    "    for kk,vv in v.items():\n",
    "        processed_data[k][kk] = vv[max_index]\n",
    "        if kk==\"Success Rate\":\n",
    "            processed_data[k][kk]=processed_data[k][kk]*100/128"
   ]
  },
  {
   "cell_type": "code",
   "execution_count": 16,
   "metadata": {},
   "outputs": [
    {
     "data": {
      "text/plain": [
       "{'RAGEN': {'Steps': 24,\n",
       "  'Valid Action': 3.578125,\n",
       "  'Effective Action': 1.3671875,\n",
       "  'Turns': 3.8671875,\n",
       "  'Success Rate': 32.03125},\n",
       " 'no-think-RL': {'Steps': 34,\n",
       "  'Valid Action': 2.1796875,\n",
       "  'Effective Action': 1.484375,\n",
       "  'Turns': 4.265625,\n",
       "  'Success Rate': 29.6875}}"
      ]
     },
     "execution_count": 16,
     "metadata": {},
     "output_type": "execute_result"
    }
   ],
   "source": [
    "processed_data"
   ]
  },
  {
   "cell_type": "markdown",
   "metadata": {},
   "source": [
    "# Frozon Results"
   ]
  },
  {
   "cell_type": "code",
   "execution_count": 17,
   "metadata": {},
   "outputs": [],
   "source": [
    "frozenlake_results = {\n",
    "    \"frozenlake_main_archive\": \"zexswzel\",\n",
    "    \"frozenlake_main_no_think_rl_archive\":\"khkqagbh\",\n",
    "}\n",
    "\n",
    "\n",
    "for k,v in frozenlake_results.items():\n",
    "    download_wandb_metrics(team=team,project=project,run_id=v,out_dir='./wandb_logs')"
   ]
  },
  {
   "cell_type": "code",
   "execution_count": 18,
   "metadata": {},
   "outputs": [],
   "source": [
    "file_name_to_table_name={\n",
    "    \"frozenlake_main_archive\":\"RAGEN\",\n",
    "    \"frozenlake_main_no_think_rl_archive\":\"no-think-RL\",\n",
    "}\n",
    "file_plot_dict={}\n",
    "for k in file_name_to_table_name.keys():\n",
    "    file_plot_dict[f\"./wandb_logs/{k}/metrics.csv\"] = file_name_to_table_name[k]\n",
    "metric_names_mapping={\n",
    "    \"metric/valid_action\":\"Valid Action\",\n",
    "    \"metric/effective_action\":\"Effective Action\",\n",
    "    \"metric/traj_length\":\"Turns\",\n",
    "    \"metric/finished\":\"Success Rate\",\n",
    "}"
   ]
  },
  {
   "cell_type": "code",
   "execution_count": 19,
   "metadata": {},
   "outputs": [
    {
     "name": "stdout",
     "output_type": "stream",
     "text": [
      "RAGEN 53\n",
      "no-think-RL 38\n"
     ]
    }
   ],
   "source": [
    "processed_data = extract_metrics(file_plot_dict,metric_names_mapping)"
   ]
  },
  {
   "cell_type": "code",
   "execution_count": 20,
   "metadata": {},
   "outputs": [],
   "source": [
    "\n",
    "\n",
    "for k,v in processed_data.items():\n",
    "    max_index = np.argmax(v[\"Success Rate\"])\n",
    "    for kk,vv in v.items():\n",
    "        processed_data[k][kk] = vv[max_index]\n",
    "        if kk==\"Success Rate\":\n",
    "            processed_data[k][kk]=processed_data[k][kk]*100/128"
   ]
  },
  {
   "cell_type": "code",
   "execution_count": 21,
   "metadata": {},
   "outputs": [
    {
     "data": {
      "text/plain": [
       "{'RAGEN': {'Steps': 6,\n",
       "  'Valid Action': 1.6484375,\n",
       "  'Effective Action': 1.3515625,\n",
       "  'Turns': 2.7421875,\n",
       "  'Success Rate': 64.0625},\n",
       " 'no-think-RL': {'Steps': 3,\n",
       "  'Valid Action': 1.53125,\n",
       "  'Effective Action': 1.1953125,\n",
       "  'Turns': 3.9296875,\n",
       "  'Success Rate': 33.59375}}"
      ]
     },
     "execution_count": 21,
     "metadata": {},
     "output_type": "execute_result"
    }
   ],
   "source": [
    "processed_data"
   ]
  },
  {
   "cell_type": "markdown",
   "metadata": {},
   "source": [
    "# Prompt Diversity"
   ]
  },
  {
   "cell_type": "code",
   "execution_count": 22,
   "metadata": {},
   "outputs": [],
   "source": [
    "file_name_to_id = {\n",
    "    \"sokoban_ablation_p32n4_archive\": \"d7mmuycz\",\n",
    "    \"sokoban_ablation_p64n2_archive\":\"6ztyjq6i\",\n",
    "    \"sokoban_ablation_p16n8_archive\":\"zsfku6gz\",\n",
    "    \"sokoban_ablation_p4n32_archive\":\"xif2lpo8\",\n",
    "    \"sokoban_ablation_p2n64_archive\":\"ljrdx916\"\n",
    "}\n",
    "\n",
    "\n",
    "for k,v in file_name_to_id.items():\n",
    "    download_wandb_metrics(team=team,project=project,run_id=v,out_dir='./wandb_logs')"
   ]
  },
  {
   "cell_type": "code",
   "execution_count": 23,
   "metadata": {},
   "outputs": [],
   "source": [
    "file_name_mapping={\n",
    "    \"sokoban_ablation_p32n4_archive\": 32,\n",
    "    \"sokoban_ablation_p64n2_archive\":64,\n",
    "    \"sokoban_ablation_p16n8_archive\":16,\n",
    "    \"sokoban_ablation_p4n32_archive\":4,\n",
    "    #\"sokoban_ablation_p2n64_archive\":2\n",
    "}\n",
    "file_plot_dict={}\n",
    "for k in file_name_mapping.keys():\n",
    "    file_plot_dict[f\"./wandb_logs/{k}/metrics.csv\"] = file_name_mapping[k]\n",
    "metric_names_mapping={\n",
    "    \"metric/valid_action\":\"Valid Action\",\n",
    "    \"metric/effective_action\":\"Effective Action\",\n",
    "    \"metric/traj_length\":\"Turns\",\n",
    "    \"metric/finished\":\"Success Rate\",\n",
    "}"
   ]
  },
  {
   "cell_type": "code",
   "execution_count": 24,
   "metadata": {},
   "outputs": [
    {
     "name": "stdout",
     "output_type": "stream",
     "text": [
      "32 28\n",
      "64 98\n",
      "16 28\n",
      "4 78\n"
     ]
    }
   ],
   "source": [
    "processed_data = extract_metrics(file_plot_dict,metric_names_mapping)"
   ]
  },
  {
   "cell_type": "code",
   "execution_count": 25,
   "metadata": {},
   "outputs": [],
   "source": [
    "for k,v in processed_data.items():\n",
    "    \n",
    "    #max_index=np.argmax(v[\"Success Rate\"])\n",
    "    # get the second max index\n",
    "    max_index=np.argsort(v[\"Success Rate\"])[-1]\n",
    "    \n",
    "    for kk,vv in v.items():\n",
    "        # get the max index\n",
    "        processed_data[k][kk] = vv[max_index]\n",
    "        if kk==\"Success Rate\":\n",
    "            processed_data[k][kk]=processed_data[k][kk]*100/128"
   ]
  },
  {
   "cell_type": "code",
   "execution_count": 26,
   "metadata": {},
   "outputs": [],
   "source": [
    "new_results = {}\n",
    "prompt_diversity=list(processed_data.keys())\n",
    "prompt_diversity.sort()\n",
    "new_results[\"RAGEN\"] = {\n",
    "    \"Prompt Diversity\":prompt_diversity,\n",
    "    \"Success Rate (%)\": [processed_data[k][\"Success Rate\"] for k in prompt_diversity],\n",
    "}"
   ]
  },
  {
   "cell_type": "code",
   "execution_count": 27,
   "metadata": {},
   "outputs": [],
   "source": [
    "plot_line_chart(new_results,\n",
    "                x_data_label=\"Prompt Diversity\",\n",
    "                y_data_label=\"Success Rate (%)\",\n",
    "                save_path=\"./figures/prompt_diversity.pdf\",\n",
    "                use_log_scale=True,log_base=2)"
   ]
  },
  {
   "cell_type": "markdown",
   "metadata": {},
   "source": [
    "# Different Algorithm"
   ]
  },
  {
   "cell_type": "code",
   "execution_count": 28,
   "metadata": {},
   "outputs": [],
   "source": [
    "file_name_to_id = {\n",
    "    \"sokoban_brpo_archive\": \"zcng8j4k\",\n",
    "    \"sokoban_arpo_archive\":\"6vijzn23\",\n",
    "    \"sokoban_main_archive\":\"5z8a6cog\",\n",
    "    \"frozenlake_brpo_archive\":\"obzkp1wc\",\n",
    "    \"frozenlake_arpo_archive\":\"ifastrrz\",\n",
    "    \"frozenlake_main_archive\":\"zexswzel\",\n",
    "}\n",
    "\n",
    "for k,v in file_name_to_id.items():\n",
    "    download_wandb_metrics(team=team,project=project,run_id=v,out_dir='./wandb_logs')"
   ]
  },
  {
   "cell_type": "code",
   "execution_count": 29,
   "metadata": {},
   "outputs": [],
   "source": [
    "file_name_mapping={\n",
    "    \"sokoban_arpo_archive\":\"ARPO\",\n",
    "    \"sokoban_brpo_archive\": \"BRPO\",\n",
    "    \"sokoban_main_archive\":\"GRPO\",\n",
    "}\n",
    "file_plot_dict={}\n",
    "for k in file_name_mapping.keys():\n",
    "    file_plot_dict[f\"./wandb_logs/{k}/metrics.csv\"] = file_name_mapping[k]\n",
    "metric_names_mapping={\n",
    "    \"metric/valid_action\":\"Valid Action\",\n",
    "    \"metric/effective_action\":\"Effective Action\",\n",
    "    \"metric/traj_length\":\"Turns\",\n",
    "    \"metric/finished\":\"Success Rate (%)\",\n",
    "    \"_step\":\"Steps\"\n",
    "}"
   ]
  },
  {
   "cell_type": "code",
   "execution_count": 30,
   "metadata": {},
   "outputs": [
    {
     "name": "stdout",
     "output_type": "stream",
     "text": [
      "ARPO 68\n",
      "BRPO 58\n",
      "GRPO 78\n"
     ]
    }
   ],
   "source": [
    "processed_data = extract_metrics(file_plot_dict,metric_names_mapping,hard_cut_off=18)"
   ]
  },
  {
   "cell_type": "code",
   "execution_count": 31,
   "metadata": {},
   "outputs": [],
   "source": [
    "plot_line_chart(processed_data,\n",
    "                x_data_label=\"Steps\",\n",
    "                y_data_label=\"Success Rate (%)\",\n",
    "                save_path=\"./figures/sokoban_algorithm.pdf\",\n",
    "                )"
   ]
  },
  {
   "cell_type": "code",
   "execution_count": 32,
   "metadata": {},
   "outputs": [
    {
     "name": "stdout",
     "output_type": "stream",
     "text": [
      "ARPO 48\n",
      "BRPO 18\n",
      "GRPO 53\n"
     ]
    }
   ],
   "source": [
    "file_name_mapping={\n",
    "    \"frozenlake_arpo_archive\":\"ARPO\",\n",
    "    \"frozenlake_brpo_archive\":\"BRPO\",\n",
    "    \"frozenlake_main_archive\":\"GRPO\",\n",
    "}\n",
    "file_plot_dict={}\n",
    "for k in file_name_mapping.keys():\n",
    "    file_plot_dict[f\"./wandb_logs/{k}/metrics.csv\"] = file_name_mapping[k]\n",
    "metric_names_mapping={\n",
    "    \"metric/valid_action\":\"Valid Action\",\n",
    "    \"metric/effective_action\":\"Effective Action\",\n",
    "    \"metric/traj_length\":\"Turns\",\n",
    "    \"metric/finished\":\"Success Rate (%)\",\n",
    "    \"_step\":\"Steps\"\n",
    "}\n",
    "processed_data = extract_metrics(file_plot_dict,metric_names_mapping,hard_cut_off=18)\n",
    "plot_line_chart(processed_data,\n",
    "                x_data_label=\"Steps\",\n",
    "                y_data_label=\"Success Rate (%)\",\n",
    "                save_path=\"./figures/frozonlake_algorithm.pdf\",\n",
    "                )"
   ]
  },
  {
   "cell_type": "markdown",
   "metadata": {},
   "source": [
    "# Offline"
   ]
  },
  {
   "cell_type": "code",
   "execution_count": 33,
   "metadata": {},
   "outputs": [],
   "source": [
    "file_name_to_id = {\n",
    "    \"sokoban_ablation_offline2_archive\": \"gilgbeo2\",\n",
    "    \"sokoban_ablation_offline5_archive\":\"rh1a08w1\",\n",
    "    \"sokoban_ablation_offline10_archive\":\"86xslll0\",\n",
    "    \"sokoban_ablation_offline20_archive\":\"jm0wh04h\",\n",
    "}\n",
    "\n",
    "\n",
    "for k,v in file_name_to_id.items():\n",
    "    download_wandb_metrics(team=team,project=project,run_id=v,out_dir='./wandb_logs')"
   ]
  },
  {
   "cell_type": "code",
   "execution_count": 34,
   "metadata": {},
   "outputs": [
    {
     "name": "stdout",
     "output_type": "stream",
     "text": [
      "2 13\n",
      "5 18\n",
      "10 8\n",
      "20 3\n"
     ]
    }
   ],
   "source": [
    "file_name_mapping={\n",
    "    \"sokoban_ablation_offline2_archive\": 2,\n",
    "    \"sokoban_ablation_offline5_archive\":5,\n",
    "    \"sokoban_ablation_offline10_archive\":10,\n",
    "    \"sokoban_ablation_offline20_archive\":20,\n",
    "}\n",
    "file_plot_dict={}\n",
    "for k in file_name_mapping.keys():\n",
    "    file_plot_dict[f\"./wandb_logs/{k}/metrics.csv\"] = file_name_mapping[k]\n",
    "metric_names_mapping={\n",
    "    \"metric/valid_action\":\"Valid Action\",\n",
    "    \"metric/effective_action\":\"Effective Action\",\n",
    "    \"metric/traj_length\":\"Turns\",\n",
    "    \"metric/finished\":\"Success Rate\",\n",
    "}\n",
    "processed_data = extract_metrics(file_plot_dict,metric_names_mapping)\n",
    "for k,v in processed_data.items():\n",
    "    \n",
    "    #max_index=np.argmax(v[\"Success Rate\"])\n",
    "    # get the second max index\n",
    "    #max_index=np.argsort(v[\"Success Rate\"][20:])[-1]\n",
    "    max_index=len(v[\"Success Rate\"])-1\n",
    "    for kk,vv in v.items():\n",
    "        # get the max index\n",
    "        processed_data[k][kk] = vv[max_index]\n",
    "        if kk==\"Success Rate\":\n",
    "            processed_data[k][kk]=processed_data[k][kk]*100/128/k"
   ]
  },
  {
   "cell_type": "code",
   "execution_count": 35,
   "metadata": {},
   "outputs": [
    {
     "data": {
      "text/plain": [
       "{2: {'Steps': 3,\n",
       "  'Valid Action': 2.484375,\n",
       "  'Effective Action': 0.90625,\n",
       "  'Turns': 4.7890625,\n",
       "  'Success Rate': 7.03125},\n",
       " 5: {'Steps': 3,\n",
       "  'Valid Action': 2.721875,\n",
       "  'Effective Action': 1.065625,\n",
       "  'Turns': 4.5875,\n",
       "  'Success Rate': 12.96875},\n",
       " 10: {'Steps': 3,\n",
       "  'Valid Action': 3.63203125,\n",
       "  'Effective Action': 1.39140625,\n",
       "  'Turns': 4.559375,\n",
       "  'Success Rate': 14.296875},\n",
       " 20: {'Steps': 3,\n",
       "  'Valid Action': 3.790625,\n",
       "  'Effective Action': 1.3078125,\n",
       "  'Turns': 4.50078125,\n",
       "  'Success Rate': 16.2109375}}"
      ]
     },
     "execution_count": 35,
     "metadata": {},
     "output_type": "execute_result"
    }
   ],
   "source": [
    "processed_data"
   ]
  },
  {
   "cell_type": "markdown",
   "metadata": {},
   "source": [
    "# Bandits Analysis"
   ]
  },
  {
   "cell_type": "code",
   "execution_count": 36,
   "metadata": {},
   "outputs": [],
   "source": [
    "file_name_to_id = {\n",
    "    \"bandit_genea_reverse_no_think_rl\": \"hs2370nr\",\n",
    "    \"bandit_genea_reverse_archive\":\"aif22pzz\",\n",
    "    \"bandit_genea_regular_no_think_rl\":\"g9dlkrhr\",\n",
    "    \"bandit_genea_regular\":\"7bqfe4y1\",\n",
    "    \"bandit_genea_reverse_testdiff_archive\":\"h42n6i2t\",\n",
    "    \"bandit_genea_reverse_testdiff_no_think_rl_archive\":\"iad87j0f\",\n",
    "}\n",
    "for k,v in file_name_to_id.items():\n",
    "    download_wandb_metrics(team=team,project=project,run_id=v,out_dir='./wandb_logs')\n",
    "    "
   ]
  },
  {
   "cell_type": "code",
   "execution_count": 37,
   "metadata": {},
   "outputs": [
    {
     "name": "stdout",
     "output_type": "stream",
     "text": [
      "[Teacher, Engineer] (RAGEN) 48\n",
      "[Engineer, Teacher] (RAGEN) 48\n",
      "[Trader, Librarian] (RAGEN) 48\n"
     ]
    }
   ],
   "source": [
    "file_name_mapping={\n",
    "    \"bandit_genea_regular\":\"[Teacher, Engineer] (RAGEN)\",\n",
    "    \"bandit_genea_reverse_archive\":\"[Engineer, Teacher] (RAGEN)\",\n",
    "    \"bandit_genea_reverse_testdiff_archive\":\"[Trader, Librarian] (RAGEN)\",\n",
    "}\n",
    "file_plot_dict={}\n",
    "for k in file_name_mapping.keys():\n",
    "    file_plot_dict[f\"./wandb_logs/{k}/metrics.csv\"] = file_name_mapping[k]\n",
    "metric_names_mapping={\n",
    "    \"_step\":\"Steps\",\n",
    "    \"metric/n_high_arm\":\"High Arm Rate (%)\",\n",
    "    \"metric/n_low_arm\":\"Low Arm Rate (%)\",\n",
    "}\n",
    "processed_data = extract_metrics(file_plot_dict,metric_names_mapping)\n",
    "plot_line_chart(processed_data,x_data_label=\"Steps\",y_data_label=\"High Arm Rate (%)\",\n",
    "             save_path=\"./figures/analysis_high_arm_rate_vs_step.pdf\",smooth=True,font_config={\"legnet_size\":18})\n",
    "plot_line_chart(processed_data,x_data_label=\"Steps\",y_data_label=\"Low Arm Rate (%)\",\n",
    "             save_path=\"./figures/analysis_low_arm_rate_vs_step.pdf\",smooth=True,font_config={\"legnet_size\":18})"
   ]
  },
  {
   "cell_type": "code",
   "execution_count": 38,
   "metadata": {},
   "outputs": [
    {
     "name": "stdout",
     "output_type": "stream",
     "text": [
      "[Teacher, Engineer] (no-think-RL) 48\n",
      "[Engineer, Teacher] (no-think-RL) 48\n",
      "[Trader, Librarian] (no-think-RL) 48\n"
     ]
    }
   ],
   "source": [
    "file_name_mapping={\n",
    "    \"bandit_genea_regular_no_think_rl\":\"[Teacher, Engineer] (no-think-RL)\",\n",
    "    \"bandit_genea_reverse_no_think_rl\": \"[Engineer, Teacher] (no-think-RL)\",\n",
    "    \"bandit_genea_reverse_testdiff_no_think_rl_archive\":\"[Trader, Librarian] (no-think-RL)\",\n",
    "}\n",
    "file_plot_dict={}\n",
    "for k in file_name_mapping.keys():\n",
    "    file_plot_dict[f\"./wandb_logs/{k}/metrics.csv\"] = file_name_mapping[k]\n",
    "metric_names_mapping={\n",
    "    \"_step\":\"Steps\",\n",
    "    \"metric/n_high_arm\":\"High Arm Rate (%)\",\n",
    "    \"metric/n_low_arm\":\"Low Arm Rate (%)\",\n",
    "}\n",
    "processed_data = extract_metrics(file_plot_dict,metric_names_mapping)\n",
    "plot_line_chart(processed_data,x_data_label=\"Steps\",y_data_label=\"High Arm Rate (%)\",\n",
    "             save_path=\"./figures/analysis_high_arm_rate_vs_step_no_thinking.pdf\",smooth=True,font_config={\"legnet_size\":18})\n",
    "plot_line_chart(processed_data,x_data_label=\"Steps\",y_data_label=\"Low Arm Rate (%)\",\n",
    "             save_path=\"./figures/analysis_low_arm_rate_vs_step_no_thinking.pdf\",smooth=True,font_config={\"legnet_size\":18})"
   ]
  },
  {
   "cell_type": "markdown",
   "metadata": {},
   "source": [
    "## Scaling Model Size"
   ]
  },
  {
   "cell_type": "code",
   "execution_count": 39,
   "metadata": {},
   "outputs": [
    {
     "name": "stdout",
     "output_type": "stream",
     "text": [
      "Qwen 0.5B 48\n",
      "Qwen 1.5B 48\n",
      "Qwen 3B 28\n"
     ]
    }
   ],
   "source": [
    "file_name_to_id = {\n",
    "    \"sokoban_main_Qwen_1_5B\": \"y8oxwch3\",\n",
    "    \"sokoban_main_Qwen_3B\":\"27ymjev4\",\n",
    "    \"sokoban_main_Qwen_0_5B\":\"d6ajd34v\"\n",
    "    \n",
    "}\n",
    "for k,v in file_name_to_id.items():\n",
    "    download_wandb_metrics(team=team,project=project,run_id=v,out_dir='./wandb_logs')\n",
    "    \n",
    "file_name_mapping={\n",
    "    \"sokoban_main_Qwen_0_5B\":\"Qwen 0.5B\",\n",
    "     \"sokoban_main_Qwen_1_5B\":\"Qwen 1.5B\",\n",
    "    \"sokoban_main_Qwen_3B\":\"Qwen 3B\",\n",
    "    \n",
    "    \n",
    "}\n",
    "file_plot_dict={}\n",
    "for k in file_name_mapping.keys():\n",
    "    file_plot_dict[f\"./wandb_logs/{k}/metrics.csv\"] = file_name_mapping[k]\n",
    "metric_names_mapping={\n",
    "    \"_step\":\"Steps\",\n",
    "    \"metric/finished_env\":\"Finished Env\",\n",
    "    \"metric/total_env\":\"Total Env\",\n",
    "    \n",
    "}\n",
    "processed_data = extract_metrics(file_plot_dict,metric_names_mapping)\n"
   ]
  },
  {
   "cell_type": "code",
   "execution_count": 40,
   "metadata": {},
   "outputs": [],
   "source": [
    "for k,v in processed_data.items():\n",
    "    processed_data[k][\"Success Rate (%)\"] = v[\"Finished Env\"]/v[\"Total Env\"]*100"
   ]
  },
  {
   "cell_type": "code",
   "execution_count": 41,
   "metadata": {},
   "outputs": [],
   "source": [
    "plot_line_chart(processed_data,x_data_label=\"Steps\",y_data_label=\"Success Rate (%)\",\n",
    "             save_path=\"./figures/scaling_model_size.pdf\")"
   ]
  },
  {
   "cell_type": "markdown",
   "metadata": {},
   "source": [
    "## Scaling Horizon\n"
   ]
  },
  {
   "cell_type": "code",
   "execution_count": 42,
   "metadata": {},
   "outputs": [
    {
     "name": "stdout",
     "output_type": "stream",
     "text": [
      "10 Turns 38\n",
      "15 Turns 31\n",
      "20 Truns 30\n"
     ]
    }
   ],
   "source": [
    "file_name_to_id = {\n",
    "    \"frozenlake_horizon_20\": \"di8acl6m\",\n",
    "    \"frozenlake_horizon_15\":\"yvzsldol\",\n",
    "    \"frozenlake_horizon_10\":\"o0je56o3\"\n",
    "    \n",
    "}\n",
    "for k,v in file_name_to_id.items():\n",
    "    download_wandb_metrics(team=team,project=project,run_id=v,out_dir='./wandb_logs')\n",
    "    \n",
    "file_name_mapping={\n",
    "    \"frozenlake_horizon_10\":\"10 Turns\",\n",
    "     \"frozenlake_horizon_15\":\"15 Turns\",\n",
    "    \"frozenlake_horizon_20\":\"20 Truns\",\n",
    "}\n",
    "file_plot_dict={}\n",
    "for k in file_name_mapping.keys():\n",
    "    file_plot_dict[f\"./wandb_logs/{k}/metrics.csv\"] = file_name_mapping[k]\n",
    "metric_names_mapping={\n",
    "    \"_step\":\"Steps\",\n",
    "    \"metric/finished_env\":\"Finished Env\",\n",
    "    \"metric/total_env\":\"Total Env\",\n",
    "    \n",
    "}\n",
    "processed_data = extract_metrics(file_plot_dict,metric_names_mapping)\n",
    "for k,v in processed_data.items():\n",
    "    processed_data[k][\"Success Rate (%)\"] = v[\"Finished Env\"]/v[\"Total Env\"]*100\n",
    "plot_line_chart(processed_data,x_data_label=\"Steps\",y_data_label=\"Success Rate (%)\",\n",
    "             save_path=\"./figures/scaling_horizon_frozen.pdf\")\n"
   ]
  },
  {
   "cell_type": "code",
   "execution_count": 43,
   "metadata": {},
   "outputs": [
    {
     "name": "stdout",
     "output_type": "stream",
     "text": [
      "10 Turns 18\n",
      "15 Turns 58\n",
      "20 Truns 18\n"
     ]
    }
   ],
   "source": [
    "file_name_to_id = {\n",
    "    \"sokoban_horizon_20\": \"9ak5y9rj\",\n",
    "    \"sokoban_horizon_15\":\"hekcppay\",\n",
    "    \"sokoban_horizon_10\":\"vfcrb9k3\"\n",
    "    \n",
    "}\n",
    "for k,v in file_name_to_id.items():\n",
    "    download_wandb_metrics(team=team,project=project,run_id=v,out_dir='./wandb_logs')\n",
    "    \n",
    "file_name_mapping={\n",
    "    \"sokoban_horizon_10\":\"10 Turns\",\n",
    "     \"sokoban_horizon_15\":\"15 Turns\",\n",
    "    \"sokoban_horizon_20\":\"20 Truns\",\n",
    "}\n",
    "file_plot_dict={}\n",
    "for k in file_name_mapping.keys():\n",
    "    file_plot_dict[f\"./wandb_logs/{k}/metrics.csv\"] = file_name_mapping[k]\n",
    "metric_names_mapping={\n",
    "    \"_step\":\"Steps\",\n",
    "    \"metric/finished_env\":\"Finished Env\",\n",
    "    \"metric/total_env\":\"Total Env\",\n",
    "    \n",
    "}\n",
    "processed_data = extract_metrics(file_plot_dict,metric_names_mapping)\n",
    "for k,v in processed_data.items():\n",
    "    processed_data[k][\"Success Rate (%)\"] = v[\"Finished Env\"]/v[\"Total Env\"]*100\n",
    "plot_line_chart(processed_data,x_data_label=\"Steps\",y_data_label=\"Success Rate (%)\",\n",
    "             save_path=\"./figures/scaling_horizon_sokoban.pdf\")"
   ]
  },
  {
   "cell_type": "markdown",
   "metadata": {},
   "source": [
    "## Instruct vs Base"
   ]
  },
  {
   "cell_type": "code",
   "execution_count": 44,
   "metadata": {},
   "outputs": [
    {
     "name": "stdout",
     "output_type": "stream",
     "text": [
      "Qwen 0.5B Instruct 48\n",
      "Qwen 1.5B Instruct 48\n",
      "Qwen 0.5B Base 29\n",
      "Qwen 1.5B Base 98\n"
     ]
    }
   ],
   "source": [
    "file_name_to_id = {\n",
    "    \"sokoban_abl_base\":\"yzztq7p7\",\n",
    "    #\"sokoban_main_Qwen_3B\":\"27ymjev4\",\n",
    "    \"sokoban_main_Qwen_0_5B\":\"d6ajd34v\",\n",
    "    \"sokoban_main_Qwen_1_5B\": \"y8oxwch3\",\n",
    "    \"sokoban_main_Qwen_1_5B_Base\":\"a27bq2ll\",\n",
    "    \n",
    "}\n",
    "for k,v in file_name_to_id.items():\n",
    "    download_wandb_metrics(team=team,project=project,run_id=v,out_dir='./wandb_logs')\n",
    "    \n",
    "file_name_mapping={\n",
    "    \"sokoban_main_Qwen_0_5B\":\"Qwen 0.5B Instruct\",\n",
    "     \"sokoban_main_Qwen_1_5B\":\"Qwen 1.5B Instruct\",\n",
    "    \"sokoban_abl_base\":\"Qwen 0.5B Base\",\n",
    "    \"sokoban_main_Qwen_1_5B_Base\":\"Qwen 1.5B Base\",\n",
    "}\n",
    "file_plot_dict={}\n",
    "for k in file_name_mapping.keys():\n",
    "    file_plot_dict[f\"./wandb_logs/{k}/metrics.csv\"] = file_name_mapping[k]\n",
    "metric_names_mapping={\n",
    "    \"_step\":\"Steps\",\n",
    "    \"metric/finished_env\":\"Finished Env\",\n",
    "    \"metric/total_env\":\"Total Env\",\n",
    "    \n",
    "}\n",
    "processed_data = extract_metrics(file_plot_dict,metric_names_mapping)\n",
    "for k,v in processed_data.items():\n",
    "    processed_data[k][\"Success Rate (%)\"] = v[\"Finished Env\"]/v[\"Total Env\"]*100\n",
    "plot_line_chart(processed_data,x_data_label=\"Steps\",y_data_label=\"Success Rate (%)\",\n",
    "             save_path=\"./figures/base_vs_instruct_sokoban.pdf\")\n"
   ]
  },
  {
   "cell_type": "markdown",
   "metadata": {},
   "source": [
    "## Scaling Model New"
   ]
  }
 ],
 "metadata": {
  "kernelspec": {
   "display_name": "ragen",
   "language": "python",
   "name": "python3"
  },
  "language_info": {
   "codemirror_mode": {
    "name": "ipython",
    "version": 3
   },
   "file_extension": ".py",
   "mimetype": "text/x-python",
   "name": "python",
   "nbconvert_exporter": "python",
   "pygments_lexer": "ipython3",
   "version": "3.9.21"
  }
 },
 "nbformat": 4,
 "nbformat_minor": 2
}
