{
 "cells": [
  {
   "cell_type": "code",
   "execution_count": 66,
   "metadata": {},
   "outputs": [
    {
     "name": "stdout",
     "output_type": "stream",
     "text": [
      "The autoreload extension is already loaded. To reload it, use:\n",
      "  %reload_ext autoreload\n"
     ]
    }
   ],
   "source": [
    "%load_ext autoreload\n",
    "%autoreload 2"
   ]
  },
  {
   "cell_type": "code",
   "execution_count": null,
   "metadata": {},
   "outputs": [],
   "source": [
    "from wandb_utils import download_wandb_metrics,download_wandb_logs\n",
    "import pandas as pd\n",
    "import os\n",
    "from plot_utils import plot_line_chart,extract_metrics\n",
    "import numpy as np"
   ]
  },
  {
   "cell_type": "markdown",
   "metadata": {},
   "source": [
    "## Bandit Results\n",
    "This figure is the low arm and high arm rate for the normal and reverse of the no think and main bandit"
   ]
  },
  {
   "cell_type": "code",
   "execution_count": 47,
   "metadata": {},
   "outputs": [],
   "source": [
    "\n",
    "\n",
    "\n",
    "figure4_bandit_results = {\n",
    "    \"bandit_no_think_rl_archive\": \"1gyb6m0f\",\n",
    "    \"bandit_reverse_no_think_rl_archive\":\"qrgyldl3\",\n",
    "    \"bandit_main_archive\":\"d4rw9kmn\",\n",
    "    \"bandit_reverse_archive\":\"jbe3s5bb\",\n",
    "}\n",
    "\n",
    "\n",
    "for k,v in figure4_bandit_results.items():\n",
    "    download_wandb_metrics(run_id=v,out_dir='./wandb_logs')\n",
    "\n"
   ]
  },
  {
   "cell_type": "code",
   "execution_count": 48,
   "metadata": {},
   "outputs": [],
   "source": [
    "file_name_to_plot_name={\n",
    "    \"bandit_no_think_rl_archive\":\"no-think-RL\",\n",
    "    \"bandit_reverse_no_think_rl_archive\":\"no-think-RL-reverse\",\n",
    "    \"bandit_main_archive\":\"RAGEN\",\n",
    "    \"bandit_reverse_archive\":\"RAGEN-reverse\",\n",
    "    \n",
    "}\n",
    "file_plot_dict={}\n",
    "for k in figure4_bandit_results.keys():\n",
    "    file_plot_dict[f\"./wandb_logs/{k}/metrics.csv\"] = file_name_to_plot_name[k]"
   ]
  },
  {
   "cell_type": "code",
   "execution_count": 57,
   "metadata": {},
   "outputs": [],
   "source": [
    "\n",
    "metric_names_mapping={\n",
    "    \"metric/n_high_arm\":\"Row High Arm Rate (%)\",\n",
    "    \"metric/n_low_arm\":\"Row Low Arm Rate (%)\",\n",
    "    \"_step\":\"Steps\",\n",
    "}"
   ]
  },
  {
   "cell_type": "code",
   "execution_count": 58,
   "metadata": {},
   "outputs": [],
   "source": [
    "processed_data = extract_metrics(file_plot_dict,metric_names_mapping)"
   ]
  },
  {
   "cell_type": "code",
   "execution_count": 59,
   "metadata": {},
   "outputs": [
    {
     "name": "stderr",
     "output_type": "stream",
     "text": [
      "/tmp/ipykernel_1248633/3792891665.py:3: RuntimeWarning: invalid value encountered in divide\n",
      "  v[\"High Arm Rate (%)\"] = v[\"Row High Arm Rate (%)\"]/(v[\"Row High Arm Rate (%)\"]+v[\"Row Low Arm Rate (%)\"])*100\n",
      "/tmp/ipykernel_1248633/3792891665.py:4: RuntimeWarning: invalid value encountered in divide\n",
      "  v[\"Low Arm Rate (%)\"] = v[\"Row Low Arm Rate (%)\"]/(v[\"Row High Arm Rate (%)\"]+v[\"Row Low Arm Rate (%)\"])*100\n"
     ]
    }
   ],
   "source": [
    "for k,v in processed_data.items():\n",
    "    # recalculate the rate as high/(high+low) and low/(high+low)\n",
    "    v[\"High Arm Rate (%)\"] = v[\"Row High Arm Rate (%)\"]/(v[\"Row High Arm Rate (%)\"]+v[\"Row Low Arm Rate (%)\"])*100\n",
    "    v[\"Low Arm Rate (%)\"] = v[\"Row Low Arm Rate (%)\"]/(v[\"Row High Arm Rate (%)\"]+v[\"Row Low Arm Rate (%)\"])*100"
   ]
  },
  {
   "cell_type": "code",
   "execution_count": 60,
   "metadata": {},
   "outputs": [],
   "source": [
    "plot_line_chart(processed_data,x_data_label=\"Steps\",y_data_label=\"High Arm Rate (%)\",save_path=\"./figures/high_arm_rate_vs_step.pdf\")"
   ]
  },
  {
   "cell_type": "code",
   "execution_count": 61,
   "metadata": {},
   "outputs": [],
   "source": [
    "plot_line_chart(processed_data,x_data_label=\"Steps\",y_data_label=\"Low Arm Rate (%)\",save_path=\"./figures/low_arm_rate_vs_step.pdf\")"
   ]
  },
  {
   "cell_type": "markdown",
   "metadata": {},
   "source": [
    "# Sokoban Results"
   ]
  },
  {
   "cell_type": "code",
   "execution_count": 9,
   "metadata": {},
   "outputs": [],
   "source": [
    "sokoban_results = {\n",
    "    \"sokoban_main_archive\": \"5z8a6cog\",\n",
    "    \"sokoban_main_no_think_rl_archive\":\"46ihhpmx\",\n",
    "}\n",
    "\n",
    "\n",
    "for k,v in sokoban_results.items():\n",
    "    download_wandb_metrics(run_id=v,out_dir='./wandb_logs')"
   ]
  },
  {
   "cell_type": "code",
   "execution_count": 10,
   "metadata": {},
   "outputs": [],
   "source": [
    "file_name_to_table_name={\n",
    "    \"sokoban_main_archive\":\"RAGEN\",\n",
    "    \"sokoban_main_no_think_rl_archive\":\"no-think-RL\",\n",
    "}\n",
    "file_plot_dict={}\n",
    "for k in file_name_to_table_name.keys():\n",
    "    file_plot_dict[f\"./wandb_logs/{k}/metrics.csv\"] = file_name_to_table_name[k]"
   ]
  },
  {
   "cell_type": "code",
   "execution_count": 11,
   "metadata": {},
   "outputs": [],
   "source": [
    "metric_names_mapping={\n",
    "    \"metric/valid_action\":\"Valid Action\",\n",
    "    \"metric/effective_action\":\"Effective Action\",\n",
    "    \"metric/traj_length\":\"Turns\",\n",
    "    \"metric/finished\":\"Success Rate\",\n",
    "}"
   ]
  },
  {
   "cell_type": "code",
   "execution_count": 12,
   "metadata": {},
   "outputs": [],
   "source": [
    "processed_data = extract_metrics(file_plot_dict,metric_names_mapping)"
   ]
  },
  {
   "cell_type": "code",
   "execution_count": 13,
   "metadata": {},
   "outputs": [],
   "source": [
    "cutoff_step=39\n",
    "# get scores at cutoff step\n",
    "for k,v in processed_data.items():\n",
    "    for kk,vv in v.items():\n",
    "        processed_data[k][kk] = vv[cutoff_step]\n",
    "        if kk==\"Success Rate\":\n",
    "            processed_data[k][kk]=processed_data[k][kk]*100/128"
   ]
  },
  {
   "cell_type": "code",
   "execution_count": 14,
   "metadata": {},
   "outputs": [],
   "source": [
    "# cutoff_step=38\n",
    "# # get scores at cutoff step\n",
    "# for k,v in processed_data.items():\n",
    "#     for kk,vv in v.items():\n",
    "#         if kk ==\"Turns\":\n",
    "#             processed_data[k][kk] = min(vv)\n",
    "#         else:\n",
    "#             processed_data[k][kk] = max(vv)\n",
    "#         if kk==\"Success Rate\":\n",
    "#             processed_data[k][kk]=processed_data[k][kk]*100/128"
   ]
  },
  {
   "cell_type": "code",
   "execution_count": 15,
   "metadata": {},
   "outputs": [
    {
     "data": {
      "text/plain": [
       "{'RAGEN': {'Steps': 40,\n",
       "  'Valid Action': 3.9375,\n",
       "  'Effective Action': 2.0546875,\n",
       "  'Turns': 4.4453125,\n",
       "  'Success Rate': 25.0},\n",
       " 'no-think-RL': {'Steps': 40,\n",
       "  'Valid Action': 0.875,\n",
       "  'Effective Action': 0.484375,\n",
       "  'Turns': 4.625,\n",
       "  'Success Rate': 14.0625}}"
      ]
     },
     "execution_count": 15,
     "metadata": {},
     "output_type": "execute_result"
    }
   ],
   "source": [
    "processed_data"
   ]
  },
  {
   "cell_type": "markdown",
   "metadata": {},
   "source": [
    "# Frozon Results"
   ]
  },
  {
   "cell_type": "code",
   "execution_count": null,
   "metadata": {},
   "outputs": [],
   "source": [
    "sokoban_results = {\n",
    "    \"frozenlake_main_archive\": \"zexswzel\",\n",
    "    \"frozenlake_main_no_think_rl_archive\":\"khkqagbh\",\n",
    "}\n",
    "\n",
    "\n",
    "for k,v in frozenlake_results.items():\n",
    "    download_wandb_metrics(run_id=v,out_dir='./wandb_logs')"
   ]
  },
  {
   "cell_type": "code",
   "execution_count": 17,
   "metadata": {},
   "outputs": [],
   "source": [
    "file_name_to_table_name={\n",
    "    \"frozenlake_main_archive\":\"RAGEN\",\n",
    "    \"frozenlake_main_no_think_rl_archive\":\"no-think-RL\",\n",
    "}\n",
    "file_plot_dict={}\n",
    "for k in file_name_to_table_name.keys():\n",
    "    file_plot_dict[f\"./wandb_logs/{k}/metrics.csv\"] = file_name_to_table_name[k]\n",
    "metric_names_mapping={\n",
    "    \"metric/valid_action\":\"Valid Action\",\n",
    "    \"metric/effective_action\":\"Effective Action\",\n",
    "    \"metric/traj_length\":\"Turns\",\n",
    "    \"metric/finished\":\"Success Rate\",\n",
    "}"
   ]
  },
  {
   "cell_type": "code",
   "execution_count": 18,
   "metadata": {},
   "outputs": [],
   "source": [
    "processed_data = extract_metrics(file_plot_dict,metric_names_mapping)"
   ]
  },
  {
   "cell_type": "code",
   "execution_count": 19,
   "metadata": {},
   "outputs": [],
   "source": [
    "cutoff_step=17\n",
    "# get scores at cutoff step\n",
    "for k,v in processed_data.items():\n",
    "    for kk,vv in v.items():\n",
    "        processed_data[k][kk] = vv[cutoff_step]\n",
    "        if kk==\"Success Rate\":\n",
    "            processed_data[k][kk]=processed_data[k][kk]*100/128"
   ]
  },
  {
   "cell_type": "code",
   "execution_count": 20,
   "metadata": {},
   "outputs": [
    {
     "data": {
      "text/plain": [
       "{'RAGEN': {'Steps': 18,\n",
       "  'Valid Action': 2.8203125,\n",
       "  'Effective Action': 2.328125,\n",
       "  'Turns': 3.7109375,\n",
       "  'Success Rate': 45.3125},\n",
       " 'no-think-RL': {'Steps': 18,\n",
       "  'Valid Action': 0.2734375,\n",
       "  'Effective Action': 0.234375,\n",
       "  'Turns': 4.625,\n",
       "  'Success Rate': 9.375}}"
      ]
     },
     "execution_count": 20,
     "metadata": {},
     "output_type": "execute_result"
    }
   ],
   "source": [
    "processed_data"
   ]
  },
  {
   "cell_type": "markdown",
   "metadata": {},
   "source": [
    "# Prompt Diversity"
   ]
  },
  {
   "cell_type": "code",
   "execution_count": 21,
   "metadata": {},
   "outputs": [],
   "source": [
    "file_name_to_id = {\n",
    "    \"sokoban_ablation_p32n4_archive\": \"d7mmuycz\",\n",
    "    \"sokoban_ablation_p64n2_archive\":\"6ztyjq6i\",\n",
    "    \"sokoban_ablation_p16n8_archive\":\"zsfku6gz\",\n",
    "    \"sokoban_ablation_p4n32_archive\":\"xif2lpo8\",\n",
    "    \"sokoban_ablation_p2n64_archive\":\"ljrdx916\"\n",
    "}\n",
    "\n",
    "\n",
    "for k,v in file_name_to_id.items():\n",
    "    download_wandb_metrics(run_id=v,out_dir='./wandb_logs')"
   ]
  },
  {
   "cell_type": "code",
   "execution_count": 22,
   "metadata": {},
   "outputs": [],
   "source": [
    "file_name_mapping={\n",
    "    \"sokoban_ablation_p32n4_archive\": 32,\n",
    "    \"sokoban_ablation_p64n2_archive\":64,\n",
    "    \"sokoban_ablation_p16n8_archive\":16,\n",
    "    \"sokoban_ablation_p4n32_archive\":4,\n",
    "    #\"sokoban_ablation_p2n64_archive\":2\n",
    "}\n",
    "file_plot_dict={}\n",
    "for k in file_name_mapping.keys():\n",
    "    file_plot_dict[f\"./wandb_logs/{k}/metrics.csv\"] = file_name_mapping[k]\n",
    "metric_names_mapping={\n",
    "    \"metric/valid_action\":\"Valid Action\",\n",
    "    \"metric/effective_action\":\"Effective Action\",\n",
    "    \"metric/traj_length\":\"Turns\",\n",
    "    \"metric/finished\":\"Success Rate\",\n",
    "}"
   ]
  },
  {
   "cell_type": "code",
   "execution_count": 23,
   "metadata": {},
   "outputs": [],
   "source": [
    "processed_data = extract_metrics(file_plot_dict,metric_names_mapping)"
   ]
  },
  {
   "cell_type": "code",
   "execution_count": 24,
   "metadata": {},
   "outputs": [],
   "source": [
    "for k,v in processed_data.items():\n",
    "    \n",
    "    #max_index=np.argmax(v[\"Success Rate\"])\n",
    "    # get the second max index\n",
    "    max_index=np.argsort(v[\"Success Rate\"][20:])[-1]+20\n",
    "    #max_index=len(v[\"Success Rate\"][20:])-1\n",
    "    for kk,vv in v.items():\n",
    "        # get the max index\n",
    "        processed_data[k][kk] = vv[max_index]\n",
    "        if kk==\"Success Rate\":\n",
    "            processed_data[k][kk]=processed_data[k][kk]*100/128"
   ]
  },
  {
   "cell_type": "code",
   "execution_count": 25,
   "metadata": {},
   "outputs": [],
   "source": [
    "new_results = {}\n",
    "prompt_diversity=list(processed_data.keys())\n",
    "prompt_diversity.sort()\n",
    "new_results[\"RAGEN\"] = {\n",
    "    \"Prompt Diversity\":prompt_diversity,\n",
    "    \"Success Rate (%)\": [processed_data[k][\"Success Rate\"] for k in prompt_diversity],\n",
    "}"
   ]
  },
  {
   "cell_type": "code",
   "execution_count": 26,
   "metadata": {},
   "outputs": [],
   "source": [
    "plot_line_chart(new_results,\n",
    "                x_data_label=\"Prompt Diversity\",\n",
    "                y_data_label=\"Success Rate (%)\",\n",
    "                save_path=\"./figures/prompt_diversity.pdf\",\n",
    "                use_log_scale=True,log_base=2)"
   ]
  },
  {
   "cell_type": "markdown",
   "metadata": {},
   "source": [
    "# Different Algorithm"
   ]
  },
  {
   "cell_type": "code",
   "execution_count": 27,
   "metadata": {},
   "outputs": [],
   "source": [
    "file_name_to_id = {\n",
    "    \"sokoban_brpo_archive\": \"zcng8j4k\",\n",
    "    \"sokoban_arpo_archive\":\"6vijzn23\",\n",
    "    \"sokoban_main_archive\":\"5z8a6cog\",\n",
    "    \"frozenlake_brpo_archive\":\"obzkp1wc\",\n",
    "    \"frozenlake_arpo_archive\":\"ifastrrz\",\n",
    "    \"frozenlake_main_archive\":\"zexswzel\",\n",
    "}\n",
    "\n",
    "for k,v in file_name_to_id.items():\n",
    "    download_wandb_metrics(run_id=v,out_dir='./wandb_logs')"
   ]
  },
  {
   "cell_type": "code",
   "execution_count": 28,
   "metadata": {},
   "outputs": [],
   "source": [
    "file_name_mapping={\n",
    "    \"sokoban_arpo_archive\":\"ARPO\",\n",
    "    \"sokoban_brpo_archive\": \"BRPO\",\n",
    "    \"sokoban_main_archive\":\"GRPO\",\n",
    "}\n",
    "file_plot_dict={}\n",
    "for k in file_name_mapping.keys():\n",
    "    file_plot_dict[f\"./wandb_logs/{k}/metrics.csv\"] = file_name_mapping[k]\n",
    "metric_names_mapping={\n",
    "    \"metric/valid_action\":\"Valid Action\",\n",
    "    \"metric/effective_action\":\"Effective Action\",\n",
    "    \"metric/traj_length\":\"Turns\",\n",
    "    \"metric/finished\":\"Success Rate (%)\",\n",
    "    \"_step\":\"Steps\"\n",
    "}"
   ]
  },
  {
   "cell_type": "code",
   "execution_count": 29,
   "metadata": {},
   "outputs": [],
   "source": [
    "processed_data = extract_metrics(file_plot_dict,metric_names_mapping,hard_cut_off=18)"
   ]
  },
  {
   "cell_type": "code",
   "execution_count": 30,
   "metadata": {},
   "outputs": [],
   "source": [
    "plot_line_chart(processed_data,\n",
    "                x_data_label=\"Steps\",\n",
    "                y_data_label=\"Success Rate (%)\",\n",
    "                save_path=\"./figures/sokoban_algorithm.pdf\",\n",
    "                )"
   ]
  },
  {
   "cell_type": "code",
   "execution_count": 31,
   "metadata": {},
   "outputs": [],
   "source": [
    "file_name_mapping={\n",
    "    \"frozenlake_arpo_archive\":\"ARPO\",\n",
    "    \"frozenlake_brpo_archive\":\"BRPO\",\n",
    "    \"frozenlake_main_archive\":\"GRPO\",\n",
    "}\n",
    "file_plot_dict={}\n",
    "for k in file_name_mapping.keys():\n",
    "    file_plot_dict[f\"./wandb_logs/{k}/metrics.csv\"] = file_name_mapping[k]\n",
    "metric_names_mapping={\n",
    "    \"metric/valid_action\":\"Valid Action\",\n",
    "    \"metric/effective_action\":\"Effective Action\",\n",
    "    \"metric/traj_length\":\"Turns\",\n",
    "    \"metric/finished\":\"Success Rate (%)\",\n",
    "    \"_step\":\"Steps\"\n",
    "}\n",
    "processed_data = extract_metrics(file_plot_dict,metric_names_mapping,hard_cut_off=18)\n",
    "plot_line_chart(processed_data,\n",
    "                x_data_label=\"Steps\",\n",
    "                y_data_label=\"Success Rate (%)\",\n",
    "                save_path=\"./figures/frozonlake_algorithm.pdf\",\n",
    "                )"
   ]
  },
  {
   "cell_type": "markdown",
   "metadata": {},
   "source": [
    "# Offline"
   ]
  },
  {
   "cell_type": "code",
   "execution_count": 32,
   "metadata": {},
   "outputs": [],
   "source": [
    "file_name_to_id = {\n",
    "    \"sokoban_ablation_offline2_archive\": \"gilgbeo2\",\n",
    "    \"sokoban_ablation_offline5_archive\":\"rh1a08w1\",\n",
    "    \"sokoban_ablation_offline10_archive\":\"86xslll0\",\n",
    "    \"sokoban_ablation_offline20_archive\":\"jm0wh04h\",\n",
    "}\n",
    "\n",
    "\n",
    "for k,v in file_name_to_id.items():\n",
    "    download_wandb_metrics(run_id=v,out_dir='./wandb_logs')"
   ]
  },
  {
   "cell_type": "code",
   "execution_count": 33,
   "metadata": {},
   "outputs": [],
   "source": [
    "file_name_mapping={\n",
    "    \"sokoban_ablation_offline2_archive\": 2,\n",
    "    \"sokoban_ablation_offline5_archive\":5,\n",
    "    \"sokoban_ablation_offline10_archive\":10,\n",
    "    \"sokoban_ablation_offline20_archive\":20,\n",
    "}\n",
    "file_plot_dict={}\n",
    "for k in file_name_mapping.keys():\n",
    "    file_plot_dict[f\"./wandb_logs/{k}/metrics.csv\"] = file_name_mapping[k]\n",
    "metric_names_mapping={\n",
    "    \"metric/valid_action\":\"Valid Action\",\n",
    "    \"metric/effective_action\":\"Effective Action\",\n",
    "    \"metric/traj_length\":\"Turns\",\n",
    "    \"metric/finished\":\"Success Rate\",\n",
    "}\n",
    "processed_data = extract_metrics(file_plot_dict,metric_names_mapping)\n",
    "for k,v in processed_data.items():\n",
    "    \n",
    "    #max_index=np.argmax(v[\"Success Rate\"])\n",
    "    # get the second max index\n",
    "    #max_index=np.argsort(v[\"Success Rate\"][20:])[-1]\n",
    "    max_index=len(v[\"Success Rate\"])-1\n",
    "    for kk,vv in v.items():\n",
    "        # get the max index\n",
    "        processed_data[k][kk] = vv[max_index]\n",
    "        if kk==\"Success Rate\":\n",
    "            processed_data[k][kk]=processed_data[k][kk]*100/128/k"
   ]
  },
  {
   "cell_type": "code",
   "execution_count": 34,
   "metadata": {},
   "outputs": [
    {
     "data": {
      "text/plain": [
       "{2: {'Steps': 3,\n",
       "  'Valid Action': 2.484375,\n",
       "  'Effective Action': 0.90625,\n",
       "  'Turns': 4.7890625,\n",
       "  'Success Rate': 7.03125},\n",
       " 5: {'Steps': 3,\n",
       "  'Valid Action': 2.721875,\n",
       "  'Effective Action': 1.065625,\n",
       "  'Turns': 4.5875,\n",
       "  'Success Rate': 12.96875},\n",
       " 10: {'Steps': 3,\n",
       "  'Valid Action': 3.63203125,\n",
       "  'Effective Action': 1.39140625,\n",
       "  'Turns': 4.559375,\n",
       "  'Success Rate': 14.296875},\n",
       " 20: {'Steps': 3,\n",
       "  'Valid Action': 3.790625,\n",
       "  'Effective Action': 1.3078125,\n",
       "  'Turns': 4.50078125,\n",
       "  'Success Rate': 16.2109375}}"
      ]
     },
     "execution_count": 34,
     "metadata": {},
     "output_type": "execute_result"
    }
   ],
   "source": [
    "processed_data"
   ]
  },
  {
   "cell_type": "markdown",
   "metadata": {},
   "source": [
    "# Bandits Analysis"
   ]
  },
  {
   "cell_type": "code",
   "execution_count": 35,
   "metadata": {},
   "outputs": [],
   "source": [
    "file_name_to_id = {\n",
    "    \"bandit_genea_reverse_no_think_rl\": \"hs2370nr\",\n",
    "    \"bandit_genea_reverse\":\"3vwhtrme\",\n",
    "    \"bandit_genea_regular_no_think_rl\":\"g9dlkrhr\",\n",
    "    \"bandit_genea_regular\":\"7bqfe4y1\",\n",
    "    \"bandit_genea_reverse_testdiff_archive\":\"h42n6i2t\",\n",
    "    \"bandit_genea_reverse_testdiff_no_think_rl_archive\":\"iad87j0f\",\n",
    "}\n",
    "for k,v in file_name_to_id.items():\n",
    "    download_wandb_metrics(run_id=v,out_dir='./wandb_logs')\n",
    "    \n",
    "file_name_mapping={\n",
    "    \"bandit_genea_regular\":\"[Teacher, Engineer] (RAGEN)\",\n",
    "    \"bandit_genea_regular_no_think_rl\":\"[Teacher, Engineer] (No-think RL)\",\n",
    "    \"bandit_genea_reverse\":\"[Engineer, Teacher] (RAGEN)\",\n",
    "    \"bandit_genea_reverse_no_think_rl\": \"[Engineer, Teacher] (No-think RL)\",\n",
    "    \"bandit_genea_reverse_testdiff_archive\":\"[Engineer, Teacher] -> [Trader, Librarian] (RAGEN)\",\n",
    "    \"bandit_genea_reverse_testdiff_no_think_rl_archive\":\"[Engineer, Teacher] -> [Trader, Librarian] (No-think RL)\",\n",
    "}"
   ]
  },
  {
   "cell_type": "code",
   "execution_count": 36,
   "metadata": {},
   "outputs": [],
   "source": [
    "file_plot_dict={}\n",
    "for k in file_name_mapping.keys():\n",
    "    file_plot_dict[f\"./wandb_logs/{k}/metrics.csv\"] = file_name_mapping[k]\n",
    "metric_names_mapping={\n",
    "    \"_step\":\"Steps\",\n",
    "    \"metric/n_high_arm\":\"High Arm Rate (%)\",\n",
    "    \"metric/n_low_arm\":\"Low Arm Rate (%)\",\n",
    "}\n",
    "processed_data = extract_metrics(file_plot_dict,metric_names_mapping)"
   ]
  },
  {
   "cell_type": "code",
   "execution_count": 37,
   "metadata": {},
   "outputs": [],
   "source": [
    "plot_line_chart(processed_data,x_data_label=\"Steps\",y_data_label=\"High Arm Rate (%)\",\n",
    "             save_path=\"./figures/analysis_high_arm_rate_vs_step.pdf\")\n",
    "plot_line_chart(processed_data,x_data_label=\"Steps\",y_data_label=\"Low Arm Rate (%)\",\n",
    "             save_path=\"./figures/analysis_low_arm_rate_vs_step.pdf\")"
   ]
  },
  {
   "cell_type": "markdown",
   "metadata": {},
   "source": [
    "## Scaling Model Size"
   ]
  },
  {
   "cell_type": "code",
   "execution_count": null,
   "metadata": {},
   "outputs": [],
   "source": [
    "file_name_to_id = {\n",
    "    \"sokoban_main_Qwen_1_5B\": \"y8oxwch3\",\n",
    "    \"sokoban_main_Qwen_3B\":\"27ymjev4\",\n",
    "    \"sokoban_main_Qwen_0_5B\":\"d6ajd34v\"\n",
    "    \n",
    "}\n",
    "for k,v in file_name_to_id.items():\n",
    "    download_wandb_metrics(run_id=v,out_dir='./wandb_logs')\n",
    "    \n",
    "file_name_mapping={\n",
    "    \"sokoban_main_Qwen_0_5B\":\"Qwen 0.5B\",\n",
    "     \"sokoban_main_Qwen_1_5B\":\"Qwen 1.5B\",\n",
    "    \"sokoban_main_Qwen_3B\":\"Qwen 3B\",\n",
    "    \n",
    "    \n",
    "}\n",
    "file_plot_dict={}\n",
    "for k in file_name_mapping.keys():\n",
    "    file_plot_dict[f\"./wandb_logs/{k}/metrics.csv\"] = file_name_mapping[k]\n",
    "metric_names_mapping={\n",
    "    \"_step\":\"Steps\",\n",
    "    \"metric/finished_env\":\"Finished Env\",\n",
    "    \"metric/total_env\":\"Total Env\",\n",
    "    \n",
    "}\n",
    "processed_data = extract_metrics(file_plot_dict,metric_names_mapping)\n"
   ]
  },
  {
   "cell_type": "code",
   "execution_count": 39,
   "metadata": {},
   "outputs": [],
   "source": [
    "for k,v in processed_data.items():\n",
    "    processed_data[k][\"Success Rate (%)\"] = v[\"Finished Env\"]/v[\"Total Env\"]*100"
   ]
  },
  {
   "cell_type": "code",
   "execution_count": 40,
   "metadata": {},
   "outputs": [],
   "source": [
    "plot_line_chart(processed_data,x_data_label=\"Steps\",y_data_label=\"Success Rate (%)\",\n",
    "             save_path=\"./figures/scaling_model_size.pdf\")"
   ]
  },
  {
   "cell_type": "markdown",
   "metadata": {},
   "source": [
    "## Scaling Horizon\n"
   ]
  },
  {
   "cell_type": "code",
   "execution_count": 44,
   "metadata": {},
   "outputs": [],
   "source": [
    "file_name_to_id = {\n",
    "    \"frozenlake_horizon_20\": \"di8acl6m\",\n",
    "    \"frozenlake_horizon_15\":\"yvzsldol\",\n",
    "    \"frozenlake_horizon_10\":\"o0je56o3\"\n",
    "    \n",
    "}\n",
    "for k,v in file_name_to_id.items():\n",
    "    download_wandb_metrics(run_id=v,out_dir='./wandb_logs')\n",
    "    \n",
    "file_name_mapping={\n",
    "    \"frozenlake_horizon_10\":\"10 Turns\",\n",
    "     \"frozenlake_horizon_15\":\"15 Turns\",\n",
    "    \"frozenlake_horizon_20\":\"20 Truns\",\n",
    "}\n",
    "file_plot_dict={}\n",
    "for k in file_name_mapping.keys():\n",
    "    file_plot_dict[f\"./wandb_logs/{k}/metrics.csv\"] = file_name_mapping[k]\n",
    "metric_names_mapping={\n",
    "    \"_step\":\"Steps\",\n",
    "    \"metric/finished_env\":\"Finished Env\",\n",
    "    \"metric/total_env\":\"Total Env\",\n",
    "    \n",
    "}\n",
    "processed_data = extract_metrics(file_plot_dict,metric_names_mapping)\n",
    "for k,v in processed_data.items():\n",
    "    processed_data[k][\"Success Rate (%)\"] = v[\"Finished Env\"]/v[\"Total Env\"]*100\n",
    "plot_line_chart(processed_data,x_data_label=\"Steps\",y_data_label=\"Success Rate (%)\",\n",
    "             save_path=\"./figures/scaling_horizon_frozen.pdf\")\n"
   ]
  },
  {
   "cell_type": "code",
   "execution_count": 45,
   "metadata": {},
   "outputs": [],
   "source": [
    "file_name_to_id = {\n",
    "    \"sokoban_horizon_20\": \"9ak5y9rj\",\n",
    "    \"sokoban_horizon_15\":\"hekcppay\",\n",
    "    \"sokoban_horizon_10\":\"vfcrb9k3\"\n",
    "    \n",
    "}\n",
    "for k,v in file_name_to_id.items():\n",
    "    download_wandb_metrics(run_id=v,out_dir='./wandb_logs')\n",
    "    \n",
    "file_name_mapping={\n",
    "    \"sokoban_horizon_10\":\"10 Turns\",\n",
    "     \"sokoban_horizon_15\":\"15 Turns\",\n",
    "    \"sokoban_horizon_20\":\"20 Truns\",\n",
    "}\n",
    "file_plot_dict={}\n",
    "for k in file_name_mapping.keys():\n",
    "    file_plot_dict[f\"./wandb_logs/{k}/metrics.csv\"] = file_name_mapping[k]\n",
    "metric_names_mapping={\n",
    "    \"_step\":\"Steps\",\n",
    "    \"metric/finished_env\":\"Finished Env\",\n",
    "    \"metric/total_env\":\"Total Env\",\n",
    "    \n",
    "}\n",
    "processed_data = extract_metrics(file_plot_dict,metric_names_mapping)\n",
    "for k,v in processed_data.items():\n",
    "    processed_data[k][\"Success Rate (%)\"] = v[\"Finished Env\"]/v[\"Total Env\"]*100\n",
    "plot_line_chart(processed_data,x_data_label=\"Steps\",y_data_label=\"Success Rate (%)\",\n",
    "             save_path=\"./figures/scaling_horizon_sokoban.pdf\")"
   ]
  },
  {
   "cell_type": "markdown",
   "metadata": {},
   "source": [
    "## Instruct vs Base"
   ]
  },
  {
   "cell_type": "code",
   "execution_count": 46,
   "metadata": {},
   "outputs": [],
   "source": [
    "file_name_to_id = {\n",
    "    \"sokoban_abl_base\":\"yzztq7p7\",\n",
    "    #\"sokoban_main_Qwen_3B\":\"27ymjev4\",\n",
    "    \"sokoban_main_Qwen_0_5B\":\"d6ajd34v\",\n",
    "    \"sokoban_main_Qwen_1_5B\": \"y8oxwch3\",\n",
    "    \"sokoban_main_Qwen_1_5B_Base\":\"a27bq2ll\",\n",
    "    \n",
    "}\n",
    "for k,v in file_name_to_id.items():\n",
    "    download_wandb_metrics(run_id=v,out_dir='./wandb_logs')\n",
    "    \n",
    "file_name_mapping={\n",
    "    \"sokoban_main_Qwen_0_5B\":\"Qwen 0.5B Instruct\",\n",
    "     \"sokoban_main_Qwen_1_5B\":\"Qwen 1.5B Instruct\",\n",
    "    \"sokoban_abl_base\":\"Qwen 0.5B Base\",\n",
    "    \"sokoban_main_Qwen_1_5B_Base\":\"Qwen 1.5B Base\",\n",
    "}\n",
    "file_plot_dict={}\n",
    "for k in file_name_mapping.keys():\n",
    "    file_plot_dict[f\"./wandb_logs/{k}/metrics.csv\"] = file_name_mapping[k]\n",
    "metric_names_mapping={\n",
    "    \"_step\":\"Steps\",\n",
    "    \"metric/finished_env\":\"Finished Env\",\n",
    "    \"metric/total_env\":\"Total Env\",\n",
    "    \n",
    "}\n",
    "processed_data = extract_metrics(file_plot_dict,metric_names_mapping)\n",
    "for k,v in processed_data.items():\n",
    "    processed_data[k][\"Success Rate (%)\"] = v[\"Finished Env\"]/v[\"Total Env\"]*100\n",
    "plot_line_chart(processed_data,x_data_label=\"Steps\",y_data_label=\"Success Rate (%)\",\n",
    "             save_path=\"./figures/base_vs_instruct_sokoban.pdf\")\n"
   ]
  },
  {
   "cell_type": "markdown",
   "metadata": {},
   "source": [
    "## Scaling Model New"
   ]
  },
  {
   "cell_type": "code",
   "execution_count": 69,
   "metadata": {},
   "outputs": [
    {
     "ename": "KeyboardInterrupt",
     "evalue": "",
     "output_type": "error",
     "traceback": [
      "\u001b[0;31m---------------------------------------------------------------------------\u001b[0m",
      "\u001b[0;31mKeyboardInterrupt\u001b[0m                         Traceback (most recent call last)",
      "Cell \u001b[0;32mIn[69], line 8\u001b[0m\n\u001b[1;32m      1\u001b[0m file_name_to_id \u001b[38;5;241m=\u001b[39m {\n\u001b[1;32m      2\u001b[0m     \u001b[38;5;124m\"\u001b[39m\u001b[38;5;124msokoban_main_Qwen_1_5B\u001b[39m\u001b[38;5;124m\"\u001b[39m: \u001b[38;5;124m\"\u001b[39m\u001b[38;5;124my8oxwch3\u001b[39m\u001b[38;5;124m\"\u001b[39m,\n\u001b[1;32m      3\u001b[0m     \u001b[38;5;124m\"\u001b[39m\u001b[38;5;124msokoban_main_Qwen_3B\u001b[39m\u001b[38;5;124m\"\u001b[39m:\u001b[38;5;124m\"\u001b[39m\u001b[38;5;124m27ymjev4\u001b[39m\u001b[38;5;124m\"\u001b[39m,\n\u001b[1;32m      4\u001b[0m     \u001b[38;5;124m\"\u001b[39m\u001b[38;5;124msokoban_main_Qwen_0_5B\u001b[39m\u001b[38;5;124m\"\u001b[39m:\u001b[38;5;124m\"\u001b[39m\u001b[38;5;124md6ajd34v\u001b[39m\u001b[38;5;124m\"\u001b[39m\n\u001b[1;32m      5\u001b[0m     \n\u001b[1;32m      6\u001b[0m }\n\u001b[1;32m      7\u001b[0m \u001b[38;5;28;01mfor\u001b[39;00m k,v \u001b[38;5;129;01min\u001b[39;00m file_name_to_id\u001b[38;5;241m.\u001b[39mitems():\n\u001b[0;32m----> 8\u001b[0m     \u001b[43mdownload_wandb_new\u001b[49m\u001b[43m(\u001b[49m\u001b[43mrun_id\u001b[49m\u001b[38;5;241;43m=\u001b[39;49m\u001b[43mv\u001b[49m\u001b[43m,\u001b[49m\u001b[43mout_dir\u001b[49m\u001b[38;5;241;43m=\u001b[39;49m\u001b[38;5;124;43mf\u001b[39;49m\u001b[38;5;124;43m'\u001b[39;49m\u001b[38;5;124;43m./wandb_logs_all_files/\u001b[39;49m\u001b[38;5;132;43;01m{\u001b[39;49;00m\u001b[43mk\u001b[49m\u001b[38;5;132;43;01m}\u001b[39;49;00m\u001b[38;5;124;43m'\u001b[39;49m\u001b[43m,\u001b[49m\u001b[43mteam\u001b[49m\u001b[38;5;241;43m=\u001b[39;49m\u001b[38;5;124;43m\"\u001b[39;49m\u001b[38;5;124;43mzihanwang-ai-northwestern-university\u001b[39;49m\u001b[38;5;124;43m\"\u001b[39;49m\u001b[43m,\u001b[49m\u001b[43m \u001b[49m\u001b[43mproject\u001b[49m\u001b[38;5;241;43m=\u001b[39;49m\u001b[38;5;124;43m\"\u001b[39;49m\u001b[38;5;124;43mRAGEN\u001b[39;49m\u001b[38;5;124;43m\"\u001b[39;49m\u001b[43m)\u001b[49m\n",
      "File \u001b[0;32m~/projects/ragen/ragen/ragen/utils/wandb_utils.py:17\u001b[0m, in \u001b[0;36mdownload_wandb_new\u001b[0;34m(run_id, out_dir, team, project)\u001b[0m\n\u001b[1;32m     15\u001b[0m files \u001b[38;5;241m=\u001b[39m run\u001b[38;5;241m.\u001b[39mfiles()\n\u001b[1;32m     16\u001b[0m \u001b[38;5;28;01mfor\u001b[39;00m file \u001b[38;5;129;01min\u001b[39;00m files:\n\u001b[0;32m---> 17\u001b[0m     \u001b[43mfile\u001b[49m\u001b[38;5;241;43m.\u001b[39;49m\u001b[43mdownload\u001b[49m\u001b[43m(\u001b[49m\u001b[43mout_dir\u001b[49m\u001b[43m,\u001b[49m\u001b[43m \u001b[49m\u001b[43mexist_ok\u001b[49m\u001b[38;5;241;43m=\u001b[39;49m\u001b[38;5;28;43;01mTrue\u001b[39;49;00m\u001b[43m)\u001b[49m\n",
      "File \u001b[0;32m~/miniconda3/envs/ragen/lib/python3.9/site-packages/wandb/apis/normalize.py:25\u001b[0m, in \u001b[0;36mnormalize_exceptions.<locals>.wrapper\u001b[0;34m(*args, **kwargs)\u001b[0m\n\u001b[1;32m     23\u001b[0m message \u001b[38;5;241m=\u001b[39m \u001b[38;5;124m\"\u001b[39m\u001b[38;5;124mWhoa, you found a bug.\u001b[39m\u001b[38;5;124m\"\u001b[39m\n\u001b[1;32m     24\u001b[0m \u001b[38;5;28;01mtry\u001b[39;00m:\n\u001b[0;32m---> 25\u001b[0m     \u001b[38;5;28;01mreturn\u001b[39;00m \u001b[43mfunc\u001b[49m\u001b[43m(\u001b[49m\u001b[38;5;241;43m*\u001b[39;49m\u001b[43margs\u001b[49m\u001b[43m,\u001b[49m\u001b[43m \u001b[49m\u001b[38;5;241;43m*\u001b[39;49m\u001b[38;5;241;43m*\u001b[39;49m\u001b[43mkwargs\u001b[49m\u001b[43m)\u001b[49m\n\u001b[1;32m     27\u001b[0m \u001b[38;5;28;01mexcept\u001b[39;00m requests\u001b[38;5;241m.\u001b[39mHTTPError \u001b[38;5;28;01mas\u001b[39;00m error:\n\u001b[1;32m     28\u001b[0m     errors \u001b[38;5;241m=\u001b[39m parse_backend_error_messages(error\u001b[38;5;241m.\u001b[39mresponse)\n",
      "File \u001b[0;32m~/miniconda3/envs/ragen/lib/python3.9/site-packages/wandb/sdk/lib/retry.py:215\u001b[0m, in \u001b[0;36mretriable.<locals>.decorator.<locals>.wrapped_fn\u001b[0;34m(*args, **kargs)\u001b[0m\n\u001b[1;32m    213\u001b[0m \u001b[38;5;129m@functools\u001b[39m\u001b[38;5;241m.\u001b[39mwraps(fn)\n\u001b[1;32m    214\u001b[0m \u001b[38;5;28;01mdef\u001b[39;00m \u001b[38;5;21mwrapped_fn\u001b[39m(\u001b[38;5;241m*\u001b[39margs: Any, \u001b[38;5;241m*\u001b[39m\u001b[38;5;241m*\u001b[39mkargs: Any) \u001b[38;5;241m-\u001b[39m\u001b[38;5;241m>\u001b[39m Any:\n\u001b[0;32m--> 215\u001b[0m     \u001b[38;5;28;01mreturn\u001b[39;00m \u001b[43mretrier\u001b[49m\u001b[43m(\u001b[49m\u001b[38;5;241;43m*\u001b[39;49m\u001b[43margs\u001b[49m\u001b[43m,\u001b[49m\u001b[43m \u001b[49m\u001b[38;5;241;43m*\u001b[39;49m\u001b[38;5;241;43m*\u001b[39;49m\u001b[43mkargs\u001b[49m\u001b[43m)\u001b[49m\n",
      "File \u001b[0;32m~/miniconda3/envs/ragen/lib/python3.9/site-packages/wandb/sdk/lib/retry.py:134\u001b[0m, in \u001b[0;36mRetry.__call__\u001b[0;34m(self, *args, **kwargs)\u001b[0m\n\u001b[1;32m    132\u001b[0m \u001b[38;5;28;01mwhile\u001b[39;00m \u001b[38;5;28;01mTrue\u001b[39;00m:\n\u001b[1;32m    133\u001b[0m     \u001b[38;5;28;01mtry\u001b[39;00m:\n\u001b[0;32m--> 134\u001b[0m         result \u001b[38;5;241m=\u001b[39m \u001b[38;5;28;43mself\u001b[39;49m\u001b[38;5;241;43m.\u001b[39;49m\u001b[43m_call_fn\u001b[49m\u001b[43m(\u001b[49m\u001b[38;5;241;43m*\u001b[39;49m\u001b[43margs\u001b[49m\u001b[43m,\u001b[49m\u001b[43m \u001b[49m\u001b[38;5;241;43m*\u001b[39;49m\u001b[38;5;241;43m*\u001b[39;49m\u001b[43mkwargs\u001b[49m\u001b[43m)\u001b[49m\n\u001b[1;32m    135\u001b[0m         \u001b[38;5;66;03m# Only print resolved attempts once every minute\u001b[39;00m\n\u001b[1;32m    136\u001b[0m         \u001b[38;5;28;01mif\u001b[39;00m \u001b[38;5;28mself\u001b[39m\u001b[38;5;241m.\u001b[39m_num_iter \u001b[38;5;241m>\u001b[39m \u001b[38;5;241m2\u001b[39m \u001b[38;5;129;01mand\u001b[39;00m now \u001b[38;5;241m-\u001b[39m \u001b[38;5;28mself\u001b[39m\u001b[38;5;241m.\u001b[39m_last_print \u001b[38;5;241m>\u001b[39m datetime\u001b[38;5;241m.\u001b[39mtimedelta(\n\u001b[1;32m    137\u001b[0m             minutes\u001b[38;5;241m=\u001b[39m\u001b[38;5;241m1\u001b[39m\n\u001b[1;32m    138\u001b[0m         ):\n",
      "File \u001b[0;32m~/miniconda3/envs/ragen/lib/python3.9/site-packages/wandb/apis/public/files.py:190\u001b[0m, in \u001b[0;36mFile.download\u001b[0;34m(self, root, replace, exist_ok, api)\u001b[0m\n\u001b[1;32m    185\u001b[0m     \u001b[38;5;28;01melse\u001b[39;00m:\n\u001b[1;32m    186\u001b[0m         \u001b[38;5;28;01mraise\u001b[39;00m \u001b[38;5;167;01mValueError\u001b[39;00m(\n\u001b[1;32m    187\u001b[0m             \u001b[38;5;124m\"\u001b[39m\u001b[38;5;124mFile already exists, pass replace=True to overwrite or exist_ok=True to leave it as is and don\u001b[39m\u001b[38;5;124m'\u001b[39m\u001b[38;5;124mt error.\u001b[39m\u001b[38;5;124m\"\u001b[39m\n\u001b[1;32m    188\u001b[0m         )\n\u001b[0;32m--> 190\u001b[0m \u001b[43mutil\u001b[49m\u001b[38;5;241;43m.\u001b[39;49m\u001b[43mdownload_file_from_url\u001b[49m\u001b[43m(\u001b[49m\u001b[43mpath\u001b[49m\u001b[43m,\u001b[49m\u001b[43m \u001b[49m\u001b[38;5;28;43mself\u001b[39;49m\u001b[38;5;241;43m.\u001b[39;49m\u001b[43murl\u001b[49m\u001b[43m,\u001b[49m\u001b[43m \u001b[49m\u001b[43mapi\u001b[49m\u001b[38;5;241;43m.\u001b[39;49m\u001b[43mapi_key\u001b[49m\u001b[43m)\u001b[49m\n\u001b[1;32m    191\u001b[0m \u001b[38;5;28;01mreturn\u001b[39;00m \u001b[38;5;28mopen\u001b[39m(path)\n",
      "File \u001b[0;32m~/miniconda3/envs/ragen/lib/python3.9/site-packages/wandb/util.py:1350\u001b[0m, in \u001b[0;36mdownload_file_from_url\u001b[0;34m(dest_path, source_url, api_key)\u001b[0m\n\u001b[1;32m   1348\u001b[0m \u001b[38;5;28;01mif\u001b[39;00m \u001b[38;5;129;01mnot\u001b[39;00m _thread_local_api_settings\u001b[38;5;241m.\u001b[39mcookies:\n\u001b[1;32m   1349\u001b[0m     auth \u001b[38;5;241m=\u001b[39m (\u001b[38;5;124m\"\u001b[39m\u001b[38;5;124mapi\u001b[39m\u001b[38;5;124m\"\u001b[39m, api_key \u001b[38;5;129;01mor\u001b[39;00m \u001b[38;5;124m\"\u001b[39m\u001b[38;5;124m\"\u001b[39m)\n\u001b[0;32m-> 1350\u001b[0m response \u001b[38;5;241m=\u001b[39m \u001b[43mrequests\u001b[49m\u001b[38;5;241;43m.\u001b[39;49m\u001b[43mget\u001b[49m\u001b[43m(\u001b[49m\n\u001b[1;32m   1351\u001b[0m \u001b[43m    \u001b[49m\u001b[43msource_url\u001b[49m\u001b[43m,\u001b[49m\n\u001b[1;32m   1352\u001b[0m \u001b[43m    \u001b[49m\u001b[43mauth\u001b[49m\u001b[38;5;241;43m=\u001b[39;49m\u001b[43mauth\u001b[49m\u001b[43m,\u001b[49m\n\u001b[1;32m   1353\u001b[0m \u001b[43m    \u001b[49m\u001b[43mheaders\u001b[49m\u001b[38;5;241;43m=\u001b[39;49m\u001b[43m_thread_local_api_settings\u001b[49m\u001b[38;5;241;43m.\u001b[39;49m\u001b[43mheaders\u001b[49m\u001b[43m,\u001b[49m\n\u001b[1;32m   1354\u001b[0m \u001b[43m    \u001b[49m\u001b[43mcookies\u001b[49m\u001b[38;5;241;43m=\u001b[39;49m\u001b[43m_thread_local_api_settings\u001b[49m\u001b[38;5;241;43m.\u001b[39;49m\u001b[43mcookies\u001b[49m\u001b[43m,\u001b[49m\n\u001b[1;32m   1355\u001b[0m \u001b[43m    \u001b[49m\u001b[43mstream\u001b[49m\u001b[38;5;241;43m=\u001b[39;49m\u001b[38;5;28;43;01mTrue\u001b[39;49;00m\u001b[43m,\u001b[49m\n\u001b[1;32m   1356\u001b[0m \u001b[43m    \u001b[49m\u001b[43mtimeout\u001b[49m\u001b[38;5;241;43m=\u001b[39;49m\u001b[38;5;241;43m5\u001b[39;49m\u001b[43m,\u001b[49m\n\u001b[1;32m   1357\u001b[0m \u001b[43m\u001b[49m\u001b[43m)\u001b[49m\n\u001b[1;32m   1358\u001b[0m response\u001b[38;5;241m.\u001b[39mraise_for_status()\n\u001b[1;32m   1360\u001b[0m \u001b[38;5;28;01mif\u001b[39;00m os\u001b[38;5;241m.\u001b[39msep \u001b[38;5;129;01min\u001b[39;00m dest_path:\n",
      "File \u001b[0;32m~/miniconda3/envs/ragen/lib/python3.9/site-packages/requests/api.py:73\u001b[0m, in \u001b[0;36mget\u001b[0;34m(url, params, **kwargs)\u001b[0m\n\u001b[1;32m     62\u001b[0m \u001b[38;5;28;01mdef\u001b[39;00m \u001b[38;5;21mget\u001b[39m(url, params\u001b[38;5;241m=\u001b[39m\u001b[38;5;28;01mNone\u001b[39;00m, \u001b[38;5;241m*\u001b[39m\u001b[38;5;241m*\u001b[39mkwargs):\n\u001b[1;32m     63\u001b[0m \u001b[38;5;250m    \u001b[39m\u001b[38;5;124mr\u001b[39m\u001b[38;5;124;03m\"\"\"Sends a GET request.\u001b[39;00m\n\u001b[1;32m     64\u001b[0m \n\u001b[1;32m     65\u001b[0m \u001b[38;5;124;03m    :param url: URL for the new :class:`Request` object.\u001b[39;00m\n\u001b[0;32m   (...)\u001b[0m\n\u001b[1;32m     70\u001b[0m \u001b[38;5;124;03m    :rtype: requests.Response\u001b[39;00m\n\u001b[1;32m     71\u001b[0m \u001b[38;5;124;03m    \"\"\"\u001b[39;00m\n\u001b[0;32m---> 73\u001b[0m     \u001b[38;5;28;01mreturn\u001b[39;00m \u001b[43mrequest\u001b[49m\u001b[43m(\u001b[49m\u001b[38;5;124;43m\"\u001b[39;49m\u001b[38;5;124;43mget\u001b[39;49m\u001b[38;5;124;43m\"\u001b[39;49m\u001b[43m,\u001b[49m\u001b[43m \u001b[49m\u001b[43murl\u001b[49m\u001b[43m,\u001b[49m\u001b[43m \u001b[49m\u001b[43mparams\u001b[49m\u001b[38;5;241;43m=\u001b[39;49m\u001b[43mparams\u001b[49m\u001b[43m,\u001b[49m\u001b[43m \u001b[49m\u001b[38;5;241;43m*\u001b[39;49m\u001b[38;5;241;43m*\u001b[39;49m\u001b[43mkwargs\u001b[49m\u001b[43m)\u001b[49m\n",
      "File \u001b[0;32m~/miniconda3/envs/ragen/lib/python3.9/site-packages/requests/api.py:59\u001b[0m, in \u001b[0;36mrequest\u001b[0;34m(method, url, **kwargs)\u001b[0m\n\u001b[1;32m     55\u001b[0m \u001b[38;5;66;03m# By using the 'with' statement we are sure the session is closed, thus we\u001b[39;00m\n\u001b[1;32m     56\u001b[0m \u001b[38;5;66;03m# avoid leaving sockets open which can trigger a ResourceWarning in some\u001b[39;00m\n\u001b[1;32m     57\u001b[0m \u001b[38;5;66;03m# cases, and look like a memory leak in others.\u001b[39;00m\n\u001b[1;32m     58\u001b[0m \u001b[38;5;28;01mwith\u001b[39;00m sessions\u001b[38;5;241m.\u001b[39mSession() \u001b[38;5;28;01mas\u001b[39;00m session:\n\u001b[0;32m---> 59\u001b[0m     \u001b[38;5;28;01mreturn\u001b[39;00m \u001b[43msession\u001b[49m\u001b[38;5;241;43m.\u001b[39;49m\u001b[43mrequest\u001b[49m\u001b[43m(\u001b[49m\u001b[43mmethod\u001b[49m\u001b[38;5;241;43m=\u001b[39;49m\u001b[43mmethod\u001b[49m\u001b[43m,\u001b[49m\u001b[43m \u001b[49m\u001b[43murl\u001b[49m\u001b[38;5;241;43m=\u001b[39;49m\u001b[43murl\u001b[49m\u001b[43m,\u001b[49m\u001b[43m \u001b[49m\u001b[38;5;241;43m*\u001b[39;49m\u001b[38;5;241;43m*\u001b[39;49m\u001b[43mkwargs\u001b[49m\u001b[43m)\u001b[49m\n",
      "File \u001b[0;32m~/miniconda3/envs/ragen/lib/python3.9/site-packages/requests/sessions.py:589\u001b[0m, in \u001b[0;36mSession.request\u001b[0;34m(self, method, url, params, data, headers, cookies, files, auth, timeout, allow_redirects, proxies, hooks, stream, verify, cert, json)\u001b[0m\n\u001b[1;32m    584\u001b[0m send_kwargs \u001b[38;5;241m=\u001b[39m {\n\u001b[1;32m    585\u001b[0m     \u001b[38;5;124m\"\u001b[39m\u001b[38;5;124mtimeout\u001b[39m\u001b[38;5;124m\"\u001b[39m: timeout,\n\u001b[1;32m    586\u001b[0m     \u001b[38;5;124m\"\u001b[39m\u001b[38;5;124mallow_redirects\u001b[39m\u001b[38;5;124m\"\u001b[39m: allow_redirects,\n\u001b[1;32m    587\u001b[0m }\n\u001b[1;32m    588\u001b[0m send_kwargs\u001b[38;5;241m.\u001b[39mupdate(settings)\n\u001b[0;32m--> 589\u001b[0m resp \u001b[38;5;241m=\u001b[39m \u001b[38;5;28;43mself\u001b[39;49m\u001b[38;5;241;43m.\u001b[39;49m\u001b[43msend\u001b[49m\u001b[43m(\u001b[49m\u001b[43mprep\u001b[49m\u001b[43m,\u001b[49m\u001b[43m \u001b[49m\u001b[38;5;241;43m*\u001b[39;49m\u001b[38;5;241;43m*\u001b[39;49m\u001b[43msend_kwargs\u001b[49m\u001b[43m)\u001b[49m\n\u001b[1;32m    591\u001b[0m \u001b[38;5;28;01mreturn\u001b[39;00m resp\n",
      "File \u001b[0;32m~/miniconda3/envs/ragen/lib/python3.9/site-packages/requests/sessions.py:724\u001b[0m, in \u001b[0;36mSession.send\u001b[0;34m(self, request, **kwargs)\u001b[0m\n\u001b[1;32m    721\u001b[0m \u001b[38;5;28;01mif\u001b[39;00m allow_redirects:\n\u001b[1;32m    722\u001b[0m     \u001b[38;5;66;03m# Redirect resolving generator.\u001b[39;00m\n\u001b[1;32m    723\u001b[0m     gen \u001b[38;5;241m=\u001b[39m \u001b[38;5;28mself\u001b[39m\u001b[38;5;241m.\u001b[39mresolve_redirects(r, request, \u001b[38;5;241m*\u001b[39m\u001b[38;5;241m*\u001b[39mkwargs)\n\u001b[0;32m--> 724\u001b[0m     history \u001b[38;5;241m=\u001b[39m [resp \u001b[38;5;28;01mfor\u001b[39;00m resp \u001b[38;5;129;01min\u001b[39;00m gen]\n\u001b[1;32m    725\u001b[0m \u001b[38;5;28;01melse\u001b[39;00m:\n\u001b[1;32m    726\u001b[0m     history \u001b[38;5;241m=\u001b[39m []\n",
      "File \u001b[0;32m~/miniconda3/envs/ragen/lib/python3.9/site-packages/requests/sessions.py:724\u001b[0m, in \u001b[0;36m<listcomp>\u001b[0;34m(.0)\u001b[0m\n\u001b[1;32m    721\u001b[0m \u001b[38;5;28;01mif\u001b[39;00m allow_redirects:\n\u001b[1;32m    722\u001b[0m     \u001b[38;5;66;03m# Redirect resolving generator.\u001b[39;00m\n\u001b[1;32m    723\u001b[0m     gen \u001b[38;5;241m=\u001b[39m \u001b[38;5;28mself\u001b[39m\u001b[38;5;241m.\u001b[39mresolve_redirects(r, request, \u001b[38;5;241m*\u001b[39m\u001b[38;5;241m*\u001b[39mkwargs)\n\u001b[0;32m--> 724\u001b[0m     history \u001b[38;5;241m=\u001b[39m [resp \u001b[38;5;28;01mfor\u001b[39;00m resp \u001b[38;5;129;01min\u001b[39;00m gen]\n\u001b[1;32m    725\u001b[0m \u001b[38;5;28;01melse\u001b[39;00m:\n\u001b[1;32m    726\u001b[0m     history \u001b[38;5;241m=\u001b[39m []\n",
      "File \u001b[0;32m~/miniconda3/envs/ragen/lib/python3.9/site-packages/requests/sessions.py:265\u001b[0m, in \u001b[0;36mSessionRedirectMixin.resolve_redirects\u001b[0;34m(self, resp, req, stream, timeout, verify, cert, proxies, yield_requests, **adapter_kwargs)\u001b[0m\n\u001b[1;32m    263\u001b[0m     \u001b[38;5;28;01myield\u001b[39;00m req\n\u001b[1;32m    264\u001b[0m \u001b[38;5;28;01melse\u001b[39;00m:\n\u001b[0;32m--> 265\u001b[0m     resp \u001b[38;5;241m=\u001b[39m \u001b[38;5;28;43mself\u001b[39;49m\u001b[38;5;241;43m.\u001b[39;49m\u001b[43msend\u001b[49m\u001b[43m(\u001b[49m\n\u001b[1;32m    266\u001b[0m \u001b[43m        \u001b[49m\u001b[43mreq\u001b[49m\u001b[43m,\u001b[49m\n\u001b[1;32m    267\u001b[0m \u001b[43m        \u001b[49m\u001b[43mstream\u001b[49m\u001b[38;5;241;43m=\u001b[39;49m\u001b[43mstream\u001b[49m\u001b[43m,\u001b[49m\n\u001b[1;32m    268\u001b[0m \u001b[43m        \u001b[49m\u001b[43mtimeout\u001b[49m\u001b[38;5;241;43m=\u001b[39;49m\u001b[43mtimeout\u001b[49m\u001b[43m,\u001b[49m\n\u001b[1;32m    269\u001b[0m \u001b[43m        \u001b[49m\u001b[43mverify\u001b[49m\u001b[38;5;241;43m=\u001b[39;49m\u001b[43mverify\u001b[49m\u001b[43m,\u001b[49m\n\u001b[1;32m    270\u001b[0m \u001b[43m        \u001b[49m\u001b[43mcert\u001b[49m\u001b[38;5;241;43m=\u001b[39;49m\u001b[43mcert\u001b[49m\u001b[43m,\u001b[49m\n\u001b[1;32m    271\u001b[0m \u001b[43m        \u001b[49m\u001b[43mproxies\u001b[49m\u001b[38;5;241;43m=\u001b[39;49m\u001b[43mproxies\u001b[49m\u001b[43m,\u001b[49m\n\u001b[1;32m    272\u001b[0m \u001b[43m        \u001b[49m\u001b[43mallow_redirects\u001b[49m\u001b[38;5;241;43m=\u001b[39;49m\u001b[38;5;28;43;01mFalse\u001b[39;49;00m\u001b[43m,\u001b[49m\n\u001b[1;32m    273\u001b[0m \u001b[43m        \u001b[49m\u001b[38;5;241;43m*\u001b[39;49m\u001b[38;5;241;43m*\u001b[39;49m\u001b[43madapter_kwargs\u001b[49m\u001b[43m,\u001b[49m\n\u001b[1;32m    274\u001b[0m \u001b[43m    \u001b[49m\u001b[43m)\u001b[49m\n\u001b[1;32m    276\u001b[0m     extract_cookies_to_jar(\u001b[38;5;28mself\u001b[39m\u001b[38;5;241m.\u001b[39mcookies, prepared_request, resp\u001b[38;5;241m.\u001b[39mraw)\n\u001b[1;32m    278\u001b[0m     \u001b[38;5;66;03m# extract redirect url, if any, for the next loop\u001b[39;00m\n",
      "File \u001b[0;32m~/miniconda3/envs/ragen/lib/python3.9/site-packages/requests/sessions.py:703\u001b[0m, in \u001b[0;36mSession.send\u001b[0;34m(self, request, **kwargs)\u001b[0m\n\u001b[1;32m    700\u001b[0m start \u001b[38;5;241m=\u001b[39m preferred_clock()\n\u001b[1;32m    702\u001b[0m \u001b[38;5;66;03m# Send the request\u001b[39;00m\n\u001b[0;32m--> 703\u001b[0m r \u001b[38;5;241m=\u001b[39m \u001b[43madapter\u001b[49m\u001b[38;5;241;43m.\u001b[39;49m\u001b[43msend\u001b[49m\u001b[43m(\u001b[49m\u001b[43mrequest\u001b[49m\u001b[43m,\u001b[49m\u001b[43m \u001b[49m\u001b[38;5;241;43m*\u001b[39;49m\u001b[38;5;241;43m*\u001b[39;49m\u001b[43mkwargs\u001b[49m\u001b[43m)\u001b[49m\n\u001b[1;32m    705\u001b[0m \u001b[38;5;66;03m# Total elapsed time of the request (approximately)\u001b[39;00m\n\u001b[1;32m    706\u001b[0m elapsed \u001b[38;5;241m=\u001b[39m preferred_clock() \u001b[38;5;241m-\u001b[39m start\n",
      "File \u001b[0;32m~/miniconda3/envs/ragen/lib/python3.9/site-packages/requests/adapters.py:667\u001b[0m, in \u001b[0;36mHTTPAdapter.send\u001b[0;34m(self, request, stream, timeout, verify, cert, proxies)\u001b[0m\n\u001b[1;32m    664\u001b[0m     timeout \u001b[38;5;241m=\u001b[39m TimeoutSauce(connect\u001b[38;5;241m=\u001b[39mtimeout, read\u001b[38;5;241m=\u001b[39mtimeout)\n\u001b[1;32m    666\u001b[0m \u001b[38;5;28;01mtry\u001b[39;00m:\n\u001b[0;32m--> 667\u001b[0m     resp \u001b[38;5;241m=\u001b[39m \u001b[43mconn\u001b[49m\u001b[38;5;241;43m.\u001b[39;49m\u001b[43murlopen\u001b[49m\u001b[43m(\u001b[49m\n\u001b[1;32m    668\u001b[0m \u001b[43m        \u001b[49m\u001b[43mmethod\u001b[49m\u001b[38;5;241;43m=\u001b[39;49m\u001b[43mrequest\u001b[49m\u001b[38;5;241;43m.\u001b[39;49m\u001b[43mmethod\u001b[49m\u001b[43m,\u001b[49m\n\u001b[1;32m    669\u001b[0m \u001b[43m        \u001b[49m\u001b[43murl\u001b[49m\u001b[38;5;241;43m=\u001b[39;49m\u001b[43murl\u001b[49m\u001b[43m,\u001b[49m\n\u001b[1;32m    670\u001b[0m \u001b[43m        \u001b[49m\u001b[43mbody\u001b[49m\u001b[38;5;241;43m=\u001b[39;49m\u001b[43mrequest\u001b[49m\u001b[38;5;241;43m.\u001b[39;49m\u001b[43mbody\u001b[49m\u001b[43m,\u001b[49m\n\u001b[1;32m    671\u001b[0m \u001b[43m        \u001b[49m\u001b[43mheaders\u001b[49m\u001b[38;5;241;43m=\u001b[39;49m\u001b[43mrequest\u001b[49m\u001b[38;5;241;43m.\u001b[39;49m\u001b[43mheaders\u001b[49m\u001b[43m,\u001b[49m\n\u001b[1;32m    672\u001b[0m \u001b[43m        \u001b[49m\u001b[43mredirect\u001b[49m\u001b[38;5;241;43m=\u001b[39;49m\u001b[38;5;28;43;01mFalse\u001b[39;49;00m\u001b[43m,\u001b[49m\n\u001b[1;32m    673\u001b[0m \u001b[43m        \u001b[49m\u001b[43massert_same_host\u001b[49m\u001b[38;5;241;43m=\u001b[39;49m\u001b[38;5;28;43;01mFalse\u001b[39;49;00m\u001b[43m,\u001b[49m\n\u001b[1;32m    674\u001b[0m \u001b[43m        \u001b[49m\u001b[43mpreload_content\u001b[49m\u001b[38;5;241;43m=\u001b[39;49m\u001b[38;5;28;43;01mFalse\u001b[39;49;00m\u001b[43m,\u001b[49m\n\u001b[1;32m    675\u001b[0m \u001b[43m        \u001b[49m\u001b[43mdecode_content\u001b[49m\u001b[38;5;241;43m=\u001b[39;49m\u001b[38;5;28;43;01mFalse\u001b[39;49;00m\u001b[43m,\u001b[49m\n\u001b[1;32m    676\u001b[0m \u001b[43m        \u001b[49m\u001b[43mretries\u001b[49m\u001b[38;5;241;43m=\u001b[39;49m\u001b[38;5;28;43mself\u001b[39;49m\u001b[38;5;241;43m.\u001b[39;49m\u001b[43mmax_retries\u001b[49m\u001b[43m,\u001b[49m\n\u001b[1;32m    677\u001b[0m \u001b[43m        \u001b[49m\u001b[43mtimeout\u001b[49m\u001b[38;5;241;43m=\u001b[39;49m\u001b[43mtimeout\u001b[49m\u001b[43m,\u001b[49m\n\u001b[1;32m    678\u001b[0m \u001b[43m        \u001b[49m\u001b[43mchunked\u001b[49m\u001b[38;5;241;43m=\u001b[39;49m\u001b[43mchunked\u001b[49m\u001b[43m,\u001b[49m\n\u001b[1;32m    679\u001b[0m \u001b[43m    \u001b[49m\u001b[43m)\u001b[49m\n\u001b[1;32m    681\u001b[0m \u001b[38;5;28;01mexcept\u001b[39;00m (ProtocolError, \u001b[38;5;167;01mOSError\u001b[39;00m) \u001b[38;5;28;01mas\u001b[39;00m err:\n\u001b[1;32m    682\u001b[0m     \u001b[38;5;28;01mraise\u001b[39;00m \u001b[38;5;167;01mConnectionError\u001b[39;00m(err, request\u001b[38;5;241m=\u001b[39mrequest)\n",
      "File \u001b[0;32m~/miniconda3/envs/ragen/lib/python3.9/site-packages/urllib3/connectionpool.py:787\u001b[0m, in \u001b[0;36mHTTPConnectionPool.urlopen\u001b[0;34m(self, method, url, body, headers, retries, redirect, assert_same_host, timeout, pool_timeout, release_conn, chunked, body_pos, preload_content, decode_content, **response_kw)\u001b[0m\n\u001b[1;32m    784\u001b[0m response_conn \u001b[38;5;241m=\u001b[39m conn \u001b[38;5;28;01mif\u001b[39;00m \u001b[38;5;129;01mnot\u001b[39;00m release_conn \u001b[38;5;28;01melse\u001b[39;00m \u001b[38;5;28;01mNone\u001b[39;00m\n\u001b[1;32m    786\u001b[0m \u001b[38;5;66;03m# Make the request on the HTTPConnection object\u001b[39;00m\n\u001b[0;32m--> 787\u001b[0m response \u001b[38;5;241m=\u001b[39m \u001b[38;5;28;43mself\u001b[39;49m\u001b[38;5;241;43m.\u001b[39;49m\u001b[43m_make_request\u001b[49m\u001b[43m(\u001b[49m\n\u001b[1;32m    788\u001b[0m \u001b[43m    \u001b[49m\u001b[43mconn\u001b[49m\u001b[43m,\u001b[49m\n\u001b[1;32m    789\u001b[0m \u001b[43m    \u001b[49m\u001b[43mmethod\u001b[49m\u001b[43m,\u001b[49m\n\u001b[1;32m    790\u001b[0m \u001b[43m    \u001b[49m\u001b[43murl\u001b[49m\u001b[43m,\u001b[49m\n\u001b[1;32m    791\u001b[0m \u001b[43m    \u001b[49m\u001b[43mtimeout\u001b[49m\u001b[38;5;241;43m=\u001b[39;49m\u001b[43mtimeout_obj\u001b[49m\u001b[43m,\u001b[49m\n\u001b[1;32m    792\u001b[0m \u001b[43m    \u001b[49m\u001b[43mbody\u001b[49m\u001b[38;5;241;43m=\u001b[39;49m\u001b[43mbody\u001b[49m\u001b[43m,\u001b[49m\n\u001b[1;32m    793\u001b[0m \u001b[43m    \u001b[49m\u001b[43mheaders\u001b[49m\u001b[38;5;241;43m=\u001b[39;49m\u001b[43mheaders\u001b[49m\u001b[43m,\u001b[49m\n\u001b[1;32m    794\u001b[0m \u001b[43m    \u001b[49m\u001b[43mchunked\u001b[49m\u001b[38;5;241;43m=\u001b[39;49m\u001b[43mchunked\u001b[49m\u001b[43m,\u001b[49m\n\u001b[1;32m    795\u001b[0m \u001b[43m    \u001b[49m\u001b[43mretries\u001b[49m\u001b[38;5;241;43m=\u001b[39;49m\u001b[43mretries\u001b[49m\u001b[43m,\u001b[49m\n\u001b[1;32m    796\u001b[0m \u001b[43m    \u001b[49m\u001b[43mresponse_conn\u001b[49m\u001b[38;5;241;43m=\u001b[39;49m\u001b[43mresponse_conn\u001b[49m\u001b[43m,\u001b[49m\n\u001b[1;32m    797\u001b[0m \u001b[43m    \u001b[49m\u001b[43mpreload_content\u001b[49m\u001b[38;5;241;43m=\u001b[39;49m\u001b[43mpreload_content\u001b[49m\u001b[43m,\u001b[49m\n\u001b[1;32m    798\u001b[0m \u001b[43m    \u001b[49m\u001b[43mdecode_content\u001b[49m\u001b[38;5;241;43m=\u001b[39;49m\u001b[43mdecode_content\u001b[49m\u001b[43m,\u001b[49m\n\u001b[1;32m    799\u001b[0m \u001b[43m    \u001b[49m\u001b[38;5;241;43m*\u001b[39;49m\u001b[38;5;241;43m*\u001b[39;49m\u001b[43mresponse_kw\u001b[49m\u001b[43m,\u001b[49m\n\u001b[1;32m    800\u001b[0m \u001b[43m\u001b[49m\u001b[43m)\u001b[49m\n\u001b[1;32m    802\u001b[0m \u001b[38;5;66;03m# Everything went great!\u001b[39;00m\n\u001b[1;32m    803\u001b[0m clean_exit \u001b[38;5;241m=\u001b[39m \u001b[38;5;28;01mTrue\u001b[39;00m\n",
      "File \u001b[0;32m~/miniconda3/envs/ragen/lib/python3.9/site-packages/urllib3/connectionpool.py:534\u001b[0m, in \u001b[0;36mHTTPConnectionPool._make_request\u001b[0;34m(self, conn, method, url, body, headers, retries, timeout, chunked, response_conn, preload_content, decode_content, enforce_content_length)\u001b[0m\n\u001b[1;32m    532\u001b[0m \u001b[38;5;66;03m# Receive the response from the server\u001b[39;00m\n\u001b[1;32m    533\u001b[0m \u001b[38;5;28;01mtry\u001b[39;00m:\n\u001b[0;32m--> 534\u001b[0m     response \u001b[38;5;241m=\u001b[39m \u001b[43mconn\u001b[49m\u001b[38;5;241;43m.\u001b[39;49m\u001b[43mgetresponse\u001b[49m\u001b[43m(\u001b[49m\u001b[43m)\u001b[49m\n\u001b[1;32m    535\u001b[0m \u001b[38;5;28;01mexcept\u001b[39;00m (BaseSSLError, \u001b[38;5;167;01mOSError\u001b[39;00m) \u001b[38;5;28;01mas\u001b[39;00m e:\n\u001b[1;32m    536\u001b[0m     \u001b[38;5;28mself\u001b[39m\u001b[38;5;241m.\u001b[39m_raise_timeout(err\u001b[38;5;241m=\u001b[39me, url\u001b[38;5;241m=\u001b[39murl, timeout_value\u001b[38;5;241m=\u001b[39mread_timeout)\n",
      "File \u001b[0;32m~/miniconda3/envs/ragen/lib/python3.9/site-packages/urllib3/connection.py:516\u001b[0m, in \u001b[0;36mHTTPConnection.getresponse\u001b[0;34m(self)\u001b[0m\n\u001b[1;32m    513\u001b[0m _shutdown \u001b[38;5;241m=\u001b[39m \u001b[38;5;28mgetattr\u001b[39m(\u001b[38;5;28mself\u001b[39m\u001b[38;5;241m.\u001b[39msock, \u001b[38;5;124m\"\u001b[39m\u001b[38;5;124mshutdown\u001b[39m\u001b[38;5;124m\"\u001b[39m, \u001b[38;5;28;01mNone\u001b[39;00m)\n\u001b[1;32m    515\u001b[0m \u001b[38;5;66;03m# Get the response from http.client.HTTPConnection\u001b[39;00m\n\u001b[0;32m--> 516\u001b[0m httplib_response \u001b[38;5;241m=\u001b[39m \u001b[38;5;28;43msuper\u001b[39;49m\u001b[43m(\u001b[49m\u001b[43m)\u001b[49m\u001b[38;5;241;43m.\u001b[39;49m\u001b[43mgetresponse\u001b[49m\u001b[43m(\u001b[49m\u001b[43m)\u001b[49m\n\u001b[1;32m    518\u001b[0m \u001b[38;5;28;01mtry\u001b[39;00m:\n\u001b[1;32m    519\u001b[0m     assert_header_parsing(httplib_response\u001b[38;5;241m.\u001b[39mmsg)\n",
      "File \u001b[0;32m~/miniconda3/envs/ragen/lib/python3.9/http/client.py:1377\u001b[0m, in \u001b[0;36mHTTPConnection.getresponse\u001b[0;34m(self)\u001b[0m\n\u001b[1;32m   1375\u001b[0m \u001b[38;5;28;01mtry\u001b[39;00m:\n\u001b[1;32m   1376\u001b[0m     \u001b[38;5;28;01mtry\u001b[39;00m:\n\u001b[0;32m-> 1377\u001b[0m         \u001b[43mresponse\u001b[49m\u001b[38;5;241;43m.\u001b[39;49m\u001b[43mbegin\u001b[49m\u001b[43m(\u001b[49m\u001b[43m)\u001b[49m\n\u001b[1;32m   1378\u001b[0m     \u001b[38;5;28;01mexcept\u001b[39;00m \u001b[38;5;167;01mConnectionError\u001b[39;00m:\n\u001b[1;32m   1379\u001b[0m         \u001b[38;5;28mself\u001b[39m\u001b[38;5;241m.\u001b[39mclose()\n",
      "File \u001b[0;32m~/miniconda3/envs/ragen/lib/python3.9/http/client.py:320\u001b[0m, in \u001b[0;36mHTTPResponse.begin\u001b[0;34m(self)\u001b[0m\n\u001b[1;32m    318\u001b[0m \u001b[38;5;66;03m# read until we get a non-100 response\u001b[39;00m\n\u001b[1;32m    319\u001b[0m \u001b[38;5;28;01mwhile\u001b[39;00m \u001b[38;5;28;01mTrue\u001b[39;00m:\n\u001b[0;32m--> 320\u001b[0m     version, status, reason \u001b[38;5;241m=\u001b[39m \u001b[38;5;28;43mself\u001b[39;49m\u001b[38;5;241;43m.\u001b[39;49m\u001b[43m_read_status\u001b[49m\u001b[43m(\u001b[49m\u001b[43m)\u001b[49m\n\u001b[1;32m    321\u001b[0m     \u001b[38;5;28;01mif\u001b[39;00m status \u001b[38;5;241m!=\u001b[39m CONTINUE:\n\u001b[1;32m    322\u001b[0m         \u001b[38;5;28;01mbreak\u001b[39;00m\n",
      "File \u001b[0;32m~/miniconda3/envs/ragen/lib/python3.9/http/client.py:281\u001b[0m, in \u001b[0;36mHTTPResponse._read_status\u001b[0;34m(self)\u001b[0m\n\u001b[1;32m    280\u001b[0m \u001b[38;5;28;01mdef\u001b[39;00m \u001b[38;5;21m_read_status\u001b[39m(\u001b[38;5;28mself\u001b[39m):\n\u001b[0;32m--> 281\u001b[0m     line \u001b[38;5;241m=\u001b[39m \u001b[38;5;28mstr\u001b[39m(\u001b[38;5;28;43mself\u001b[39;49m\u001b[38;5;241;43m.\u001b[39;49m\u001b[43mfp\u001b[49m\u001b[38;5;241;43m.\u001b[39;49m\u001b[43mreadline\u001b[49m\u001b[43m(\u001b[49m\u001b[43m_MAXLINE\u001b[49m\u001b[43m \u001b[49m\u001b[38;5;241;43m+\u001b[39;49m\u001b[43m \u001b[49m\u001b[38;5;241;43m1\u001b[39;49m\u001b[43m)\u001b[49m, \u001b[38;5;124m\"\u001b[39m\u001b[38;5;124miso-8859-1\u001b[39m\u001b[38;5;124m\"\u001b[39m)\n\u001b[1;32m    282\u001b[0m     \u001b[38;5;28;01mif\u001b[39;00m \u001b[38;5;28mlen\u001b[39m(line) \u001b[38;5;241m>\u001b[39m _MAXLINE:\n\u001b[1;32m    283\u001b[0m         \u001b[38;5;28;01mraise\u001b[39;00m LineTooLong(\u001b[38;5;124m\"\u001b[39m\u001b[38;5;124mstatus line\u001b[39m\u001b[38;5;124m\"\u001b[39m)\n",
      "File \u001b[0;32m~/miniconda3/envs/ragen/lib/python3.9/socket.py:716\u001b[0m, in \u001b[0;36mSocketIO.readinto\u001b[0;34m(self, b)\u001b[0m\n\u001b[1;32m    714\u001b[0m \u001b[38;5;28;01mwhile\u001b[39;00m \u001b[38;5;28;01mTrue\u001b[39;00m:\n\u001b[1;32m    715\u001b[0m     \u001b[38;5;28;01mtry\u001b[39;00m:\n\u001b[0;32m--> 716\u001b[0m         \u001b[38;5;28;01mreturn\u001b[39;00m \u001b[38;5;28;43mself\u001b[39;49m\u001b[38;5;241;43m.\u001b[39;49m\u001b[43m_sock\u001b[49m\u001b[38;5;241;43m.\u001b[39;49m\u001b[43mrecv_into\u001b[49m\u001b[43m(\u001b[49m\u001b[43mb\u001b[49m\u001b[43m)\u001b[49m\n\u001b[1;32m    717\u001b[0m     \u001b[38;5;28;01mexcept\u001b[39;00m timeout:\n\u001b[1;32m    718\u001b[0m         \u001b[38;5;28mself\u001b[39m\u001b[38;5;241m.\u001b[39m_timeout_occurred \u001b[38;5;241m=\u001b[39m \u001b[38;5;28;01mTrue\u001b[39;00m\n",
      "File \u001b[0;32m~/miniconda3/envs/ragen/lib/python3.9/ssl.py:1275\u001b[0m, in \u001b[0;36mSSLSocket.recv_into\u001b[0;34m(self, buffer, nbytes, flags)\u001b[0m\n\u001b[1;32m   1271\u001b[0m     \u001b[38;5;28;01mif\u001b[39;00m flags \u001b[38;5;241m!=\u001b[39m \u001b[38;5;241m0\u001b[39m:\n\u001b[1;32m   1272\u001b[0m         \u001b[38;5;28;01mraise\u001b[39;00m \u001b[38;5;167;01mValueError\u001b[39;00m(\n\u001b[1;32m   1273\u001b[0m           \u001b[38;5;124m\"\u001b[39m\u001b[38;5;124mnon-zero flags not allowed in calls to recv_into() on \u001b[39m\u001b[38;5;132;01m%s\u001b[39;00m\u001b[38;5;124m\"\u001b[39m \u001b[38;5;241m%\u001b[39m\n\u001b[1;32m   1274\u001b[0m           \u001b[38;5;28mself\u001b[39m\u001b[38;5;241m.\u001b[39m\u001b[38;5;18m__class__\u001b[39m)\n\u001b[0;32m-> 1275\u001b[0m     \u001b[38;5;28;01mreturn\u001b[39;00m \u001b[38;5;28;43mself\u001b[39;49m\u001b[38;5;241;43m.\u001b[39;49m\u001b[43mread\u001b[49m\u001b[43m(\u001b[49m\u001b[43mnbytes\u001b[49m\u001b[43m,\u001b[49m\u001b[43m \u001b[49m\u001b[43mbuffer\u001b[49m\u001b[43m)\u001b[49m\n\u001b[1;32m   1276\u001b[0m \u001b[38;5;28;01melse\u001b[39;00m:\n\u001b[1;32m   1277\u001b[0m     \u001b[38;5;28;01mreturn\u001b[39;00m \u001b[38;5;28msuper\u001b[39m()\u001b[38;5;241m.\u001b[39mrecv_into(buffer, nbytes, flags)\n",
      "File \u001b[0;32m~/miniconda3/envs/ragen/lib/python3.9/ssl.py:1133\u001b[0m, in \u001b[0;36mSSLSocket.read\u001b[0;34m(self, len, buffer)\u001b[0m\n\u001b[1;32m   1131\u001b[0m \u001b[38;5;28;01mtry\u001b[39;00m:\n\u001b[1;32m   1132\u001b[0m     \u001b[38;5;28;01mif\u001b[39;00m buffer \u001b[38;5;129;01mis\u001b[39;00m \u001b[38;5;129;01mnot\u001b[39;00m \u001b[38;5;28;01mNone\u001b[39;00m:\n\u001b[0;32m-> 1133\u001b[0m         \u001b[38;5;28;01mreturn\u001b[39;00m \u001b[38;5;28;43mself\u001b[39;49m\u001b[38;5;241;43m.\u001b[39;49m\u001b[43m_sslobj\u001b[49m\u001b[38;5;241;43m.\u001b[39;49m\u001b[43mread\u001b[49m\u001b[43m(\u001b[49m\u001b[38;5;28;43mlen\u001b[39;49m\u001b[43m,\u001b[49m\u001b[43m \u001b[49m\u001b[43mbuffer\u001b[49m\u001b[43m)\u001b[49m\n\u001b[1;32m   1134\u001b[0m     \u001b[38;5;28;01melse\u001b[39;00m:\n\u001b[1;32m   1135\u001b[0m         \u001b[38;5;28;01mreturn\u001b[39;00m \u001b[38;5;28mself\u001b[39m\u001b[38;5;241m.\u001b[39m_sslobj\u001b[38;5;241m.\u001b[39mread(\u001b[38;5;28mlen\u001b[39m)\n",
      "\u001b[0;31mKeyboardInterrupt\u001b[0m: "
     ]
    }
   ],
   "source": [
    "file_name_to_id = {\n",
    "    \"sokoban_main_Qwen_1_5B\": \"y8oxwch3\",\n",
    "    \"sokoban_main_Qwen_3B\":\"27ymjev4\",\n",
    "    \"sokoban_main_Qwen_0_5B\":\"d6ajd34v\"\n",
    "    \n",
    "}\n",
    "for k,v in file_name_to_id.items():\n",
    "    download_wandb_new(run_id=v,out_dir=f'./wandb_logs_all_files/{k}',team=\"zihanwang-ai-northwestern-university\", project=\"RAGEN\")"
   ]
  }
 ],
 "metadata": {
  "kernelspec": {
   "display_name": "ragen",
   "language": "python",
   "name": "python3"
  },
  "language_info": {
   "codemirror_mode": {
    "name": "ipython",
    "version": 3
   },
   "file_extension": ".py",
   "mimetype": "text/x-python",
   "name": "python",
   "nbconvert_exporter": "python",
   "pygments_lexer": "ipython3",
   "version": "3.9.21"
  }
 },
 "nbformat": 4,
 "nbformat_minor": 2
}
